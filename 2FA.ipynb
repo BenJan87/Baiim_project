{
 "cells": [
  {
   "attachments": {},
   "cell_type": "markdown",
   "metadata": {},
   "source": [
    "### Co to jest 2FA?\n",
    "Uwierzytelnianie dwuskładnikowe ( 2FA ) to metoda bezpieczeństwa zarządzania tożsamością i dostępem, która wymaga dwóch form identyfikacji w celu uzyskania dostępu do zasobów i danych.\n",
    "\n",
    "2FA to podzbiór uwierzytelniania wieloskładnikowego, elektronicznej metody uwierzytelniania, która wymaga od użytkownika udowodnienia swojej tożsamości na wiele sposobów, zanim uzyska dostęp do konta. Uwierzytelnianie dwuskładnikowe jest tak nazwane, ponieważ wymaga połączenia dwóch czynników, podczas gdy uwierzytelnianie wieloskładnikowe może wymagać więcej.\n",
    "\n",
    "2FA oferuje dodatkowy poziom bezpieczeństwa, do którego cyberzłodzieje nie mają łatwego dostępu, ponieważ przestępca potrzebuje czegoś więcej niż tylko nazwy użytkownika i hasła\n",
    "\n",
    "\n",
    "\n",
    "\n",
    "Dobrym przykładem uwierzytelniania dwuskładnikowego w świecie rzeczywistym jest karta bankomatowa. Oprócz fizycznego przedstawienia karty, aby uzyskać dostęp do konta, musisz również wpisać kod PIN.\n",
    "\n",
    "W ten sposób ci, którzy nadal polegają na haśle „hasło”, mają lepszą szansę na zabezpieczenie swoich kont bankowych.\n"
   ]
  },
  {
   "attachments": {},
   "cell_type": "markdown",
   "metadata": {},
   "source": [
    "### Metody uwierzytleniania\n",
    "\n",
    "+ Tokeny sprzętowe\n",
    "    - Firmy mogą przekazywać swoim pracownikom tokeny sprzętowe w postaci breloka, który generuje kody co kilka   sekund do minuty. Jest to jedna z najstarszych form uwierzytelniania dwuskładnikowego.\n",
    "    Ten typ 2FA wymaga od użytkowników posiadania pewnego rodzaju tokena fizycznego, takiego jak token USB, który muszą włożyć do swojego urządzenia przed zalogowaniem. Niektóre tokeny sprzętowe wyświetlają kod cyfrowy, który użytkownicy muszą wprowadzić.  \n",
    "+ Tokeny oprogramowania dla 2FA\n",
    "    - **X** te tokeny to aplikacje, które pobierasz. Każda witryna obsługująca 2FA    wyśle ​​kod do aplikacji, którą wprowadzisz przed zalogowaniem.  \n",
    "\n",
    "+ Powiadomienia push\n",
    "    - Metody uwierzytelniania dwuskładnikowego push nie wymagają hasła. Ten typ 2FA wysyła sygnał do Twojego telefonu, aby zatwierdzić/odrzucić lub zaakceptować/odrzucić dostęp do strony internetowej lub aplikacji w celu zweryfikowania Twojej tożsamości.\n",
    "    - pobierzesz na swój telefon aplikację powiadomień push. Po wprowadzeniu danych logowania w celu uzyskania dostępu do witryny internetowej na smartfon wysyłane jest powiadomienie push. Następnie na telefonie pojawi się komunikat z prośbą o zatwierdzenie próby logowania jednym stuknięciem.  \n",
    "    Zalety\n",
    "Bezpieczeństwo phishingu. Inne typy uwierzytelniania dwuskładnikowego są podatne na ataki typu phishing, ale uwierzytelnianie dwuetapowe oparte na wypychaniu zwalcza tę lukę, zastępując kody dostępu powiadomieniami wypychanymi. Gdy próbują uzyskać dostęp do swoich informacji, na telefon użytkownika wysyłane jest powiadomienie push. Powiadomienie zawiera informacje o próbie logowania, takie jak lokalizacja, godzina, adres IP i inne. Użytkownik po prostu potwierdza, że informacje są poprawne i używa swojego telefonu do zaakceptowania żądania uwierzytelnienia.\n",
    "\n",
    "Łatwość użycia. Po skonfigurowaniu 2FA oparte na wypychaniu usprawnia proces uwierzytelniania. Jeśli informacje przesłane za pośrednictwem powiadomienia push są poprawne, użytkownik po prostu akceptuje próbę logowania za pośrednictwem swojego urządzenia mobilnego i uzyskuje dostęp do swojego konta.\n",
    "\n",
    "Skalowalny 2FA oparte na push można łatwo skalować dla organizacji, które muszą zabezpieczyć wielu użytkowników. Łatwość użytkowania pozwala zespołom wdrożyć oprogramowanie i szkolić je w zakresie efektywnego korzystania z niego. Ponieważ każda próba dostępu jest potwierdzana urządzeniem mobilnym, nie trzeba wprowadzać kodów SMS ani zapisywać kodów QR.\n",
    "\n",
    "Cons\n",
    "Poleganie na dostępie do danych. 2FA oparte na push wysyła swoje powiadomienia przez sieci danych, takie jak sieci komórkowe lub Wi-Fi. Użytkownik musi mieć dostęp do danych na swoim urządzeniu mobilnym, aby móc korzystać z funkcji 2FA.\n",
    "\n",
    "Poleganie na wiedzy użytkownika. Oparte na push 2FA zwalcza phishing, umożliwiając użytkownikowi sprawdzenie lokalizacji i innych szczegółów związanych z próbą logowania. Naruszenia bezpieczeństwa mogą wystąpić w przypadkach, gdy użytkownik nie zwraca uwagi lub nie odczytuje prawidłowo informacji, takich jak adres IP i lokalizacja logowania.\n",
    "\n",
    "+ Weryfikacja SMS-em\n",
    "    - SMS lub wiadomości tekstowe mogą być używane jako forma uwierzytelniania dwuskładnikowego, gdy wiadomość jest wysyłana na zaufany numer telefonu. Użytkownik jest proszony o interakcję z tekstem lub użycie kodu jednorazowego w celu zweryfikowania swojej tożsamości w witrynie lub aplikacji.  \n",
    "    Zalety\n",
    "Prostota. SMS 2FA po prostu wysyła kod potwierdzający na telefon komórkowy użytkownika. Wystarczy wpisać kod i uzyskać dostęp do swoich informacji.\n",
    "\n",
    "Szybkość i dostęp. Jeśli wystąpi podejrzana aktywność, SMS 2FA wysyła jednorazowe hasło (OTP) do urządzenia użytkownika, dzięki czemu tylko użytkownik posiadający to urządzenie może się zalogować i sprawdzić, czy jego konto nie zostało przejęte. SMS 2FA to szybki sposób weryfikacji tożsamości użytkownika.\n",
    "\n",
    "Wszechobecność. SMS 2FA jest najstarszą formą uwierzytelniania dwuskładnikowego, dlatego stał się powszechnie akceptowanym protokołem bezpieczeństwa.\n",
    "\n",
    "Cons\n",
    "Wymagania dotyczące numeru telefonu. SMS 2FA wymaga, aby użytkownicy ujawnili swoje numery telefonów stronie trzeciej (dostawcy 2FA). To powoduje, że niektórzy ludzie czują się niekomfortowo, ponieważ budzi to obawy dotyczące prywatności, bezpieczeństwa osobistego i bycia celem reklam.\n",
    "\n",
    "Wymagania dotyczące sieci danych. SMS 2FA wymaga telefonu, który może odbierać wiadomości SMS. Jeśli telefon użytkownika zaginie lub jest uszkodzony albo nie może uzyskać dostępu do swojej sieci, otrzymanie kodu zabezpieczającego może nie być możliwe.\n",
    "\n",
    "+ Uwierzytelnianie oparte na głosie\n",
    "    - Uwierzytelnianie głosowe działa w podobny sposób jak powiadomienia push, z tą różnicą, że Twoja tożsamość jest potwierdzana automatycznie. Głos poprosi Cię o naciśnięcie klawisza lub podanie swojego imienia, aby się zidentyfikować.\n",
    "    Otrzymasz wiadomość tekstową lub głosową zawierającą kod, który musisz następnie wprowadzić, aby uzyskać dostęp do witryny lub konta.  \n",
    "    \n",
    "+ Lokalizacja\n",
    "    - jeśli Twoje konto zostało utworzone i zarejestrowane w jednym stanie i nagle próba logowania następuje w innym miejscu, może to wywołać czynnik lokalizacji. Czynniki te będą ostrzegać o próbie zalogowania się na nowym urządzeniu i wyślą kod do wprowadzenia w celu zweryfikowania tożsamości."
   ]
  },
  {
   "attachments": {},
   "cell_type": "markdown",
   "metadata": {},
   "source": [
    "2FA chroni przed wieloma zagrożeniami, do najczęstszych zagrożeń należą:\n",
    "\n",
    "Skradzione hasła\n",
    "Tradycyjne hasło może być używane przez każdego, kto wpadnie w jego ręce. Na przykład, jeśli użytkownik zapisze swoje hasło na kartce papieru, hasło to może zostać skradzione w celu uzyskania dostępu do konta. Natomiast 2FA weryfikuje użytkownika za pomocą drugiego urządzenia po wprowadzeniu hasła.\n",
    "\n",
    "Próby phishingu\n",
    "Hakerzy często wysyłają wiadomości e-mail zawierające łącza do złośliwych witryn internetowych, których celem jest zainfekowanie komputera użytkownika lub nakłonienie go do wprowadzenia hasła. Po uzyskaniu hasła może go użyć każdy, kto zarządza próbą włamania. 2FA zwalcza phishing, dodając drugą warstwę sprawdzania poprawności po wprowadzeniu hasła.\n",
    "\n",
    "Inżynieria społeczna\n",
    "Hakerzy często po prostu manipulują użytkownikami, aby zrezygnowali z haseł. Udając informatyka w firmie użytkownika, mogą zdobyć zaufanie użytkownika, zanim poprosi o dane logowania. 2FA chroni przed tym, sprawdzając lokalizację i adres IP przy każdej próbie logowania po wprowadzeniu hasła.\n",
    "\n",
    "Brute-Force Attacks\n",
    "W ataku brute-force haker losowo generuje hasła do określonego komputera, dopóki nie trafią one w odpowiednią sekwencję. Druga warstwa ochrony 2FA wymaga sprawdzenia poprawności próby logowania przed przyznaniem dostępu.\n",
    "\n",
    "\n",
    "Key Logging\n",
    "Nawet jeśli użytkownik nie zapisał swojego hasła, hakerzy mogą wykorzystać złośliwe oprogramowanie do śledzenia i kopiowania hasła użytkownika podczas jego wpisywania. Hakerzy śledzą każde naciśnięcie klawisza i przechowują hasło do późniejszego użycia. Druga warstwa sprawdzania poprawności w 2FA pozwala użytkownikowi upewnić się, że próba logowania jest jego własna, nawet jeśli jego hasło zostało naruszone.\n",
    "\n",
    "Jak 2FA chroni BYOD bring yur wn device?\n",
    "Otwarte sieci Wi-Fi: 2FA chroni przed próbami kradzieży lub wyłudzenia nazwy użytkownika i hasła za pośrednictwem otwartej sieci Wi-Fi.\n",
    "\n",
    "Ataki typu man-in-the-middle: 2FA nie pozwala hakerom na fałszowanie powiadomień push na Twoim urządzeniu osobistym, nawet jeśli Twoje hasło zostało naruszone w wyniku ataku typu man-in-the-middle.\n",
    "\n",
    "Jedno hasło na wielu kontach: 2FA zapewnia dodatkową warstwę bezpieczeństwa dzięki powiadomieniom push, nawet jeśli używałeś tego samego hasła na wielu kontach.\n",
    "\n",
    "Złośliwe załączniki do wiadomości e-mail: Nawet jeśli padniesz ofiarą złośliwych załączników, możesz chronić swoje dane logowania, potwierdzając każdą próbę logowania do konta.\n",
    "\n",
    "Przechowywanie w chmurze: 2FA daje użytkownikom chmury możliwość weryfikowania każdej próby logowania za pomocą ich urządzeń osobistych, bez względu na to, gdzie na świecie się znajdują. Staje się to wąskim otworem, który organizacje mogą wykorzystać do zabezpieczenia swoich danych w chmurze.\n",
    "\n",
    "\n",
    "\n",
    "#### Co to jest uwierzytelnianie adaptacyjne?\n",
    "Założeniem uwierzytelniania adaptacyjnego jest to, że okoliczności użytkowników stale się zmieniają — przemieszczają się między sieciami, zmieniają ustawienia urządzeń, wymagają dodatkowego dostępu do aplikacji itp. — więc reguły uwierzytelniania powinny być stale dostosowywane, aby nadążyć.\n",
    "\n",
    "Dobre rozwiązanie do uwierzytelniania adaptacyjnego pozwoli użytkownikom ustawić zasady dostępu oparte na ryzyku w kilku wymiarach:\n",
    "\n",
    "Według użytkownika lub grupy użytkowników oraz ich ról i/lub obowiązków.\n",
    "\n",
    "Według metody uwierzytelniania. Zezwalaj na uwierzytelnianie tylko za pomocą zatwierdzonych metod. Na przykład użytkownicy uwierzytelniający się za pomocą powiadomień push otrzymują dostęp; użytkownicy uwierzytelniający się za pomocą wiadomości SMS nie są.\n",
    "\n",
    "Według aplikacji. Na przykład firma może chcieć wymusić stosowanie bezpieczniejszych metod MFA (powiadomienia wypychane, WebAuthn itp.) w przypadku aplikacji i usług wysokiego ryzyka.\n",
    "\n",
    "Według położenia geograficznego. Ogranicz dostęp do zasobów firmy w dowolnej lokalizacji geograficznej.\n",
    "\n",
    "Ustaw zasady warunkowe dla określonych lokalizacji. Na przykład firma może chcieć wymagać 2FA w niektórych lokalizacjach, ale nie w innych.\n",
    "\n",
    "Według informacji sieciowych. Skąd pochodzi użytkownik/urządzenie (zestaw zakresów IP); blokuj próby uwierzytelnienia z anonimowych sieci, takich jak Tor, proxy i VPN."
   ]
  },
  {
   "attachments": {},
   "cell_type": "markdown",
   "metadata": {},
   "source": [
    "### Jakie są czynniki uwierzytelniania?\n",
    "#### Czynnik wiedzy\n",
    "Weryfikuje tożsamość, żądając informacji, które zna tylko indywidualny użytkownik. Najczęstszym przykładem czynnika wiedzy uwierzytelniania jest hasło. Hasło użytkownika powinno być prywatne tylko dla niego, umożliwiając mu użycie go jako metody potwierdzenia swojej tożsamości.\n",
    "\n",
    "#### Czynnik posiadania\n",
    "Czynniki posiadania weryfikują tożsamość użytkownika, wymagając potwierdzenia informacji, które powinien posiadać tylko użytkownik. Tokeny są powszechnie używanym czynnikiem uwierzytelniania. Te tokeny generują rotacyjny kod dostępu, który użytkownicy muszą fizycznie nosić przy sobie.\n",
    "\n",
    "#### Czynnik lokalizacji\n",
    "Czynniki lokalizacji uwierzytelniania potwierdzają tożsamość użytkownika na podstawie jego lokalizacji na świecie. Jeśli na przykład użytkownik zarejestrował konto w jednym kraju i nagle pojawiają się próby logowania z innego kraju, czynniki lokalizacji mogą uruchomić i podjąć próbę zweryfikowania tożsamości nowego użytkownika. Wiele czynników lokalizacji jest opartych na adresie IP pierwotnego użytkownika i porównuje adres z adresem nowej próby uzyskania dostępu do informacji.\n",
    "\n",
    "#### Czynnik czasu\n",
    "Czynniki czasowe uwierzytelnienia weryfikują tożsamość użytkownika poprzez kwestionowanie czasu próby dostępu. Opiera się to na założeniu, że pewne zachowania (np. logowanie do komputera służbowego) powinny mieć miejsce w przewidywalnych przedziałach czasowych. Jeśli próba uzyskania dostępu do platformy ma miejsce poza zwykłym zakresem czasu, próba może zostać zakwestionowana lub zakończona do czasu, aż użytkownik będzie mógł zweryfikować swoją tożsamość.\n",
    "\n",
    "#### Duo Mobile łączy czynnik wiedzy i czynnik posiadania uwierzytelniania, aby stworzyć najbardziej zaufaną na świecie platformę 2FA. Dwa inne czynniki uwierzytelniania to hasło jednorazowe (HOTP) oparte na HMAC i hasło jednorazowe (TOTP) oparte na czasie. Obie metody uwierzytelniania generują tymczasowe hasła z fizycznego urządzenia noszonego przez użytkownika. Tokeny HOTP tracą ważność po ich użyciu, podczas gdy tokeny TOTP wygasają, jeśli nie zostaną użyte w ciągu trzydziestu sekund.\n",
    "Zalety\n",
    "Elastyczność. Ten typ 2FA opiera się na kodzie QR, który generuje unikalny kod dostępu. Po uzyskaniu tego kodu użytkownik może go używać na wielu urządzeniach. Natomiast SMS 2FA jest ograniczony do urządzenia, które odbiera wiadomość. TOTP 2FA jest bardziej elastyczny i daje użytkownikowi szerszą możliwość dostępu do swoich informacji.\n",
    "\n",
    "Ulepszony dostęp. Mobilne uwierzytelniacze są w stanie zapamiętać, do których kont użytkownik próbuje uzyskać dostęp — dzięki czemu użytkownik może uzyskać dostęp do swojego hasła w dowolnym momencie, nawet jeśli nie jest podłączony do sieci komórkowej lub Wi-Fi.\n",
    "\n",
    "Cons\n",
    "Poleganie na urządzeniach. TOTP 2FA wymaga od użytkownika posiadania urządzenia zdolnego do odczytu kodu QR w celu weryfikacji jego tożsamości. Jeśli użytkownik zgubi swoje urządzenie lub kod QR albo zostanie skradziony, nie będzie już mógł uzyskać dostępu do swoich informacji\n",
    "\n",
    "Czynnik Inherencji\n",
    "Czynniki dziedziczenia uwierzytelniania weryfikują tożsamość użytkownika przy użyciu atrybutów, które należą tylko do tego użytkownika. Skanowanie linii papilarnych jest obecnie najbardziej oczywistym czynnikiem dziedziczenia.\n",
    "\n",
    "Odciski palców są unikalne dla poszczególnych osób, więc wiele organizacji używa ich jako sposobu na potwierdzenie, kim są ich użytkownicy. Oprócz odcisków palców, obecnie stosuje się wiele innych czynników: głos, odciski dłoni, rozpoznawanie twarzy i wiele innych."
   ]
  },
  {
   "attachments": {},
   "cell_type": "markdown",
   "metadata": {},
   "source": [
    "### Jak włączyć 2FA\n",
    "Chociaż nie wszystkie witryny korzystają z 2FA, niektóre dają możliwość aktywowania go na koncie. W przypadku witryn, które umożliwiają 2FA, przełącznik umożliwiający włączenie tej funkcji można znaleźć w ustawieniach, zwykle na karcie Zabezpieczenia.\n",
    "\n",
    "Niektóre popularne strony internetowe, które umożliwiają 2FA, to: Amazon, Facebook, Instagram, Dropbox, Lastpass, LinkedIn, Intuit, TurboTax, Mint, PayPal i Yahoo. Aby uzyskać pełną listę witryn internetowych, które mają funkcje 2FA, odwiedź tę witrynę.\n",
    "\n",
    "Dodanie uwierzytelniania dwuskładnikowego do kont o wysokim priorytecie może pomóc w zwiększeniu bezpieczeństwa Twojego — oraz Twoich pieniędzy i danych osobowych."
   ]
  },
  {
   "attachments": {},
   "cell_type": "markdown",
   "metadata": {},
   "source": [
    "### Implementacja"
   ]
  },
  {
   "attachments": {},
   "cell_type": "markdown",
   "metadata": {},
   "source": [
    "### Korzyści 2FA\n",
    "* Generatory kodów dostępu są bardziej wydajne niż tradycyjne hasła. Generatory są bezpieczniejszą opcją, ponieważ polegają na kluczu prywatnym przeważnie o długości od 120-512 bitów. Brute force takiego klucza jest wręcz niemożliwy.\n",
    "\n",
    "* Maksymalna liczba wprowadzonych kodów uniemożliwia cyberprzestępcom włamywanie się i uzyskiwanie dostępu do poufnych danych.\n",
    "\n",
    "* Proces jest łatwy w zarządzaniu i przyjazny dla użytkownika.\n",
    "\n",
    "Dlaczego 2FA jest ważne?\n",
    "Uwierzytelnianie dwuskładnikowe (2FA) jest podstawowym elementem modelu bezpieczeństwa o zerowym zaufaniu. Aby chronić poufne dane, musisz sprawdzić, czy użytkownicy próbujący uzyskać dostęp do tych danych są tym, za kogo się podają. 2FA to skuteczny sposób ochrony przed wieloma zagrożeniami bezpieczeństwa, których celem są hasła i konta użytkowników, takimi jak phishing, ataki typu brute-force, wykorzystanie danych uwierzytelniających i inne.\n",
    "\n",
    "Załóżmy, że używasz nazwy użytkownika i hasła, aby ukończyć podstawowe uwierzytelnianie w aplikacji. Te informacje są przesyłane przez Internet (twoja główna sieć). Będziesz chciał użyć innego kanału (poza pasmem), aby ukończyć drugi czynnik. Przykładem uwierzytelniania poza pasmem jest zatwierdzanie powiadomienia push wysyłanego przez sieć komórkową.\n",
    "\n",
    "Dlaczego to ma znaczenie? Jeśli osoba atakująca zdalnie jest w stanie podłączyć się do Twojego komputera za pośrednictwem połączenia internetowego, może ukraść Twoje hasło i drugą formę uwierzytelniania — jeśli obie są dostarczane tym samym kanałem.\n",
    "\n",
    "Bez fizycznego urządzenia osoby atakujące zdalnie nie mogą podszywać się pod Ciebie w celu uzyskania nieautoryzowanego dostępu do sieci korporacyjnych, przechowywania w chmurze, informacji finansowych itp. przechowywanych w aplikacjach.\n",
    "\n",
    "Integrując uwierzytelnianie dwuskładnikowe z aplikacjami, osoby atakujące nie mogą uzyskać dostępu do kont bez posiadania fizycznego urządzenia potrzebnego do wykonania drugiego składnika."
   ]
  },
  {
   "attachments": {},
   "cell_type": "markdown",
   "metadata": {},
   "source": [
    "### Po co to wszystko? Czyli podsumowanie!\n",
    "+ Każda organizacja lub osoba zainteresowana ochroną swoich danych osobowych i biznesowych powinna korzystać z metod 2FA. Ten rodzaj zabezpieczeń zapewni, że dostęp do wszystkich zasobów będzie niemożliwy bez odpowiedniej weryfikacji tożsamości. Ponadto może to wyeliminować możliwość ujawnienia informacji publicznie przez cyberprzestępców i hakerów.\n",
    "+ 2FA to skuteczny sposób na zapewnienie, że organizacja lub osoba nie padnie ofiarą cyberataku lub hakera. 2FA wykorzystuje wrażliwe na czas generatory tokenów lub kody dostępu, aby zapobiegać kradzieży tożsamości i utracie danych.\n",
    "+ Jak bezpieczne jest 2FA?\n",
    "Trudna rzeczywistość: nic nie jest w 100% bezpieczne. Istnieją sposoby, dzięki którym przestępcy mogą ominąć system i uzyskać dostęp do Twojego konta, nawet jeśli masz włączoną funkcję 2FA. Na przykład odzyskiwanie utraconego hasła zwykle resetuje hasło za pośrednictwem poczty e-mail i może całkowicie ominąć weryfikację dwuetapową.\n",
    "\n",
    "+ Jednak dodanie dodatkowej blokady dla cyberprzestępców chcących uzyskać dostęp do twoich kont jest lepsze niż zaryzykowanie i narażenie się na niebezpieczeństwo przez niewłączenie 2FA.\n",
    "\n",
    "+ Czy weryfikację dwuetapową można zhakować?\n",
    "Tak, hakerzy mogą wykorzystywać określone wiadomości phishingowe, aby obejść procesy logowania 2FA.\n",
    "\n",
    "+ Jaka jest najsilniejsza metoda 2FA?\n",
    "Sprzętowa weryfikacja 2FA jest uważana za najsilniejszą formę weryfikacji 2FA."
   ]
  },
  {
   "attachments": {},
   "cell_type": "markdown",
   "metadata": {},
   "source": [
    "### Dodatki\n",
    "\n",
    "+ Passwords are historically weak, due to both the advanced nature of hacking and a general annoyance with password creation and use. A Harris Poll found that 78% of Gen Z uses the same password across multiple accounts, increasing their overall vulnerability if a criminal was to figure out their credentials. And beyond that: About 23 million accounts still use the password “123456.”\n",
    "\n",
    "+ Zero Trust a 2FA Założenia modelu Zero Trust\n",
    "Zamiast zakładać, że wszystko za zaporą przedsiębiorstwa jest bezpieczne, model Zero Trust przyjmuje, że doszło do naruszenia bezpieczeństwa, i weryfikuje każde żądanie, tak jakby pochodziło z otwartej sieci. Niezależnie do tego, skąd pochodzi żądanie lub jakich zasobów dotyczy, model Zero Trust wymaga, aby „nigdy nie ufać i zawsze weryfikować”. Zanim dostęp zostanie udzielony, każde żądanie musi zostać w pełni uwierzytelnione, autoryzowane i zaszyfrowane. Aby zminimalizować penetrację sieci, stosowana jest mikrosegmentacja oraz zasady dostępu z najniższym poziomem uprawnień. Do wykrywania anomalii i reagowania na nie w czasie rzeczywistym używane są rozbudowane analizy.\n",
    "    - Zarówno Zero Trust, jak i 2FA dają konsumentom kontrolę nad ich danymi osobowymi i biznesowymi. Cyberprzestępcy codziennie znajdują nowe sposoby uzyskiwania dostępu do sieci.\n",
    "\n",
    "    - Zero Trust to oprogramowanie biznesowe, które pomaga uniemożliwić cyberprzestępcom dostęp do poufnych danych i sieci, zapewniając solidną ochronę aktywów biznesowych i osobistych. Podobnie 2FA pomaga chronić wrażliwe dane i sieci, ale w inny sposób — za pomocą wrażliwych na czas kodów dostępu, wiadomości głosowych oraz SMS-ów i tokenów.\n",
    "+ Co to jest zero zaufania i jaki jest związek z 2FA?\n",
    "Podejście do bezpieczeństwa oparte na zerowym zaufaniu zakłada, że zaufanie oparte na lokalizacji nie wystarcza już do zapobiegania nieautoryzowanemu dostępowi do aplikacji i informacji. Tradycyjny „obwód”, określony przez znane sieci i środowiska, jest negowany przez BYOD i pracę zdalną — w nowoczesnym miejscu pracy pracownicy oczekują pewnej swobody pracy z różnych lokalizacji i korzystania z urządzeń, z którymi czują się najlepiej. Model zerowego zaufania rozwiązuje te potencjalne problemy z bezpieczeństwem, ustanawiając zaufanie dla każdego żądania dostępu — niezależnie od lokalizacji. Wymusza kontrole adaptacyjne i stale weryfikuje zaufanie. Poziomy zaufania są dynamiczne i zmieniają się, dostosowując się do zmieniającego się biznesu. Takie podejście może pomóc w zapobieganiu nieautoryzowanemu dostępowi, ograniczaniu naruszeń i zmniejszaniu ryzyka bocznego ruchu atakującego."
   ]
  },
  {
   "attachments": {},
   "cell_type": "markdown",
   "metadata": {},
   "source": [
    "### Czy muszę korzystać z 2FA za każdym razem, gdy uzyskuję dostęp do usługi?\n",
    "Nie. Po skonfigurowaniu powinieneś być o to proszony tylko przy realizacji takich czynności, które byłyby poważnym zagrożeniem gdy wykonywałby je cyberprzestępca, a nie Ty. Są to zwykle rzeczy takie jak założenie nowego użytkownika do twojego konta bankowego, zalogowanie się na konto z nowego urządzenia lub zmiana hasła. Powstrzymuje to cyberprzestępców przed robieniem rzeczy, które mogą spowodować dla Ciebie szkody i oznacza, że nie musisz być za każdym razem sprawdzany przy wykorzystaniem drugiego składnika. Jeśli zostaniesz poproszony o podanie drugiego czynnika przy każdym logowaniu na swoim urządzeniu, możesz poszukać opcji takiej jak: „zapamiętaj moje urządzenie” lub „zapamiętaj tę przeglądarkę”."
   ]
  },
  {
   "attachments": {},
   "cell_type": "markdown",
   "metadata": {},
   "source": [
    "### \"Sponsor\" prezentacji, czyli przykładowa aplikacja 2FA\n",
    "\n",
    "* Aplikacja 2FA Authenticator to prosta i bezpłatna aplikacja do uwierzytelniania dwuskładnikowego (2FA).\n",
    "\n",
    "* Można użyć kodu QR lub ręcznie wprowadzić tajny klucz.\n",
    "\n",
    "* Aplikacja generuje TOTP na urządzeniu użytkownika.\n",
    "\n",
    "* Zdalna kopia zapasowej (RBS), która pozwoli przechowywać klucze serwisowe w bezpiecznej kopii zapasowej 2FAS opartej na chmurze i odzyskać je w przypadku zgubienia telefonu. Ta funkcja umożliwia również generowanie kodów na różnych urządzeniach (udostępnianie między urządzeniami).\n",
    "\n",
    "*  Można potwierdzić swoją tożsamość w aplikacji za pomocą Touch ID lub Face ID i wygeneruj jednorazowe tokeny wymagane do zalogowania się do kont internetowych.\n",
    "\n",
    "* Po skonfigurowaniu z kontem internetowym aplikacja działa sprawnie na różnych urządzeniach mobilnych i umożliwia logowanie z kilku urządzeń jednocześnie.\n",
    "\n",
    "*  Aplikacja generuje jednorazowe hasła czasowe (TOTP), przechowywane na telefonie użytkownika bez dostępu do Internetu. Rozwiązanie to radykalnie zwiększa bezpieczeństwo logowania."
   ]
  },
  {
   "attachments": {},
   "cell_type": "markdown",
   "metadata": {},
   "source": [
    "## Do części praktycznej:"
   ]
  },
  {
   "attachments": {},
   "cell_type": "markdown",
   "metadata": {},
   "source": [
    "Najczęściej spotykaną formą 2FA jest wiadomość SMS bądź na maila. Lecz to nie te są najsilniejsze, a 2FA opierające się na tzw. OTP (One time password). Dzielą się one na główne trzy:\n",
    "- HOTP (HMAC-based OTP)\n",
    "- TOTP (Time-based OTP)\n",
    "- OCRA (OATH Challange-Response authorization)"
   ]
  },
  {
   "attachments": {},
   "cell_type": "markdown",
   "metadata": {},
   "source": [
    "HOTP działa on na zasadzie inkrementacji. Różni się on lekko dla użytkownika i sewera. Counter użytkownika zwiększa się za każdym razem kiedy będzie chciał porównać swóje OTP z serwerm. Natomiast counter serwera zwiększa się z każdym poprawnym zweryfikowanym OTP. Aby kody po stronie użytkownika i serwera się \"nie rozjechały\", serwer generuje kody do przodu i przy autoryzacji porównuje kod podany przez użytkownika ze wszystkimi swoimi kodami \n",
    "Przykładowa implementacja po stronie użytkownika:"
   ]
  },
  {
   "cell_type": "code",
   "execution_count": 5,
   "metadata": {},
   "outputs": [
    {
     "name": "stdout",
     "output_type": "stream",
     "text": [
      "Prywatny klucz: 0LCZ0 SGQ7W ZP19Z G4D5K\n",
      "54918974730905698705472487995648124186052422481818016600090291274835073230036\n",
      "230036\n",
      "\n",
      "Kody się nie zgadzają\n",
      "\n",
      "Prywatny klucz: 0LCZ0 SGQ7W ZP19Z G4D5K\n",
      "33596668948452946809766801763709677199531111041267607500435893009788538973957\n",
      "973957\n",
      "\n",
      "Prywatny klucz: 0LCZ0 SGQ7W ZP19Z G4D5K\n",
      "10399440267479826071384002084568040782299106074554092796490871508698988833598\n",
      "833598\n",
      "\n",
      "Prywatny klucz: 0LCZ0 SGQ7W ZP19Z G4D5K\n",
      "49040881443557453906114149105654848357519980386402177811939225454342632816702\n",
      "816702\n",
      "\n"
     ]
    }
   ],
   "source": [
    "import hashlib\n",
    "import hmac\n",
    "import random\n",
    "import string\n",
    "\n",
    "\n",
    "# MOJE\n",
    "def otp(key: str, msg):\n",
    "    otp = int.from_bytes(hmac.new(key.encode(), str(msg).encode(), hashlib.sha256).digest())\n",
    "    return otp % 10**6\n",
    "\n",
    "\n",
    "random.seed('123')\n",
    "\n",
    "# Tworzy losowy klucz spośród wielkich liter alfabetu i cyfr.\n",
    "# Małe literki nie są tu użyawane, dla wygody użytkownika przepisującego klucz do aplikacji 2FA\n",
    "key = ''.join(random.choices(string.ascii_uppercase + '0123456789', k=20))\n",
    "\n",
    "\n",
    "# Counter zwiększa się za każdym razem kiedy wykona się funkcja\n",
    "user_counter = 0\n",
    "def user_hotp(key: str):\n",
    "    global user_counter\n",
    "    \n",
    "    print(f'Prywatny klucz: {key[:5]} {key[5:10]} {key[10:15]} {key[15:20]}')\n",
    "\n",
    "    # Funkcja hmac potrzebuje klucza oraz wiadomości zakodowanych w bajty. Digest zamienia obiekt hmac w bajty\n",
    "    otp = hmac.new(key.encode(), str(user_counter).encode(), hashlib.sha256).digest()\n",
    "    print(int.from_bytes(otp))\n",
    "\n",
    "    code = int.from_bytes(otp) % 10**6\n",
    "    print(f\"{code:06}\\n\")\n",
    "    \n",
    "    user_counter += 1\n",
    "\n",
    "    return code\n",
    "\n",
    "\n",
    "if user_hotp(key) == '230036':\n",
    "    print(\"Kody się zgadzają :>\\n\")\n",
    "\n",
    "else: print(\"Kody się nie zgadzają\\n\")\n",
    "\n",
    "\n",
    "for _ in range(3):\n",
    "    user_hotp(key)"
   ]
  },
  {
   "attachments": {},
   "cell_type": "markdown",
   "metadata": {},
   "source": [
    "Jak widać, każdy kolejny wygenerowany kod jest inny\n",
    "\n",
    "Teraz twoja kolej na zaimplementowanie tego algorytmu po stronie serwera. Serwer powinien generować kody do przodu i mieć je zapisane. Może się zdarzyć, że użytkownik wygeneruje za dużo kodów, dlatego serwer powinien trzymać odpowiednio dużą liczbę kodów, aby do takiej sytuacji nie doszło np. 60. Pierwsze 4 wygenerowane kody powinny być takie same jak te z implementacji wyżej"
   ]
  },
  {
   "cell_type": "code",
   "execution_count": 6,
   "metadata": {},
   "outputs": [
    {
     "name": "stdout",
     "output_type": "stream",
     "text": [
      "[230036, 973957, 833598, 816702, 340484, 159928, 651751, 88556, 770754, 594187, 677983, 822198, 486327, 71468, 237349, 321292, 24460, 266108, 988264, 402019, 868599, 256729, 954760, 218712, 882621, 300641, 922727, 859836, 147440, 613810, 52958, 693429, 26986, 893798, 371135, 502675, 798460, 867783, 570628, 290161, 641182, 388536, 160294, 170209, 956346, 957910, 196163, 384785, 964975, 647807, 845038, 928070, 821255, 563997, 891832, 511256, 986610, 465933, 843628, 738206]\n",
      "0\n"
     ]
    }
   ],
   "source": [
    "server_counter = 0\n",
    "def server_hotp(key, server_counter):\n",
    "\n",
    "    #Tutaj twoja implementacja\n",
    "    server_hotp_list = []\n",
    "    for i in range(server_counter, server_counter + 60):\n",
    "        server_hotp_list.append(otp(key, i))\n",
    "\n",
    "    return server_hotp_list\n",
    "\n",
    "    \n",
    "server_hotp_list = server_hotp(key, server_counter)\n",
    "print(server_hotp_list)\n",
    "print(server_counter)\n",
    "    "
   ]
  },
  {
   "cell_type": "code",
   "execution_count": 7,
   "metadata": {},
   "outputs": [
    {
     "name": "stdout",
     "output_type": "stream",
     "text": [
      "Prywatny klucz: 0LCZ0 SGQ7W ZP19Z G4D5K\n",
      "63260745874905829915234119064572078964590958965749007800218303318285758340484\n",
      "340484\n",
      "\n",
      "Kody się zgadzają\n",
      "Authorized\n"
     ]
    }
   ],
   "source": [
    "def compare(user_hotp: int, server_hotp_list: list, server_counter: int):\n",
    "    if user_hotp in server_hotp_list:\n",
    "        server_counter += server_hotp_list.index(user_hotp) + 1\n",
    "        return \"Kody się zgadzają\\nAuthorized\", server_counter\n",
    "    return \"Unathorized\", server_counter\n",
    "\n",
    "state, server_counter = compare(user_hotp(key), server_hotp_list, server_counter)\n",
    "server_hotp_list = server_hotp(key, server_counter)\n",
    "\n",
    "\n",
    "print(state)\n",
    "    \n",
    "    "
   ]
  },
  {
   "attachments": {},
   "cell_type": "markdown",
   "metadata": {},
   "source": [
    "**TOTP**  \n",
    "Ulepszona wersja HOTP. Zmniejsza on bowiem okno na atak brute force, ponieważ serwer nie musi generować kluczy do przodu. Dodaje on również wymaganie czasowe, dzięki czemu, aby atat brute force był skuteczny musiałby zostać przeprowadzony w czasie mniejszym od czasu życia kodu TOTP. Ten czas zwykle jest ustawiony na 15-60 sekund. Należy jednak, aby serwer i użytkownik resynchronizowali swoje zegary, ponieważ jeśli zegary się zbytnio rozjadą, autoryzacja może być niemożliwa"
   ]
  },
  {
   "cell_type": "code",
   "execution_count": 9,
   "metadata": {},
   "outputs": [
    {
     "name": "stdout",
     "output_type": "stream",
     "text": [
      "836088, Time remaining:  5"
     ]
    },
    {
     "ename": "KeyboardInterrupt",
     "evalue": "",
     "output_type": "error",
     "traceback": [
      "\u001b[1;31m---------------------------------------------------------------------------\u001b[0m",
      "\u001b[1;31mKeyboardInterrupt\u001b[0m                         Traceback (most recent call last)",
      "Cell \u001b[1;32mIn[9], line 12\u001b[0m\n\u001b[0;32m     10\u001b[0m \u001b[39mwhile\u001b[39;00m \u001b[39mTrue\u001b[39;00m:\n\u001b[0;32m     11\u001b[0m     \u001b[39mprint\u001b[39m(totp(key, time_step_size), end\u001b[39m=\u001b[39m\u001b[39m'\u001b[39m\u001b[39m'\u001b[39m)\n\u001b[1;32m---> 12\u001b[0m     time\u001b[39m.\u001b[39msleep(\u001b[39m1\u001b[39m)\n",
      "\u001b[1;31mKeyboardInterrupt\u001b[0m: "
     ]
    }
   ],
   "source": [
    "import time\n",
    "\n",
    "time_step_size = 30\n",
    "\n",
    "def totp(key: str, time_step_size: int):\n",
    "    code = otp(key, str(int(time.time() // time_step_size)))\n",
    "    return f\"\\r{code:06d}, Time remaining: {30 - int(time.time() % 30):2d}\"\n",
    "\n",
    "# Alternatywna wersja: while int(time.time() % 30) != 0:\n",
    "while True:\n",
    "    print(totp(key, time_step_size), end='')\n",
    "    time.sleep(1)"
   ]
  },
  {
   "attachments": {},
   "cell_type": "markdown",
   "metadata": {},
   "source": [
    "Bibliografia:\n",
    "- https://www.microsoft.com/en-us/security/business/security-101/what-is-two-factor-authentication-2fa\n",
    "- https://us.norton.com/blog/how-to/importance-two-factor-authentication\n",
    "- https://us.norton.com/blog/privacy/what-is-2fa\n",
<<<<<<< HEAD
    "- https://2fas.com/\n",
    "- https://apps.apple.com/us/app/2fa-authenticator-2fas/id1217793794\n",
    "- https://www.gov.pl/web/baza-wiedzy/konfigurowanie-uwierzytelniania-dwuskladnikowego-2fa\n",
    "- https://duo.com/product/multi-factor-authentication-mfa/two-factor-authentication-2fa"
   ]
  },
  {
   "attachments": {},
   "cell_type": "markdown",
   "metadata": {},
   "source": [
    "## do quizu:\n",
    "- Jak upewnić się, że moi użytkownicy aktualizują swoje urządzenia?\n",
    "Rygorystyczne normy dotyczące zdrowia urządzeń są istotną częścią każdego skutecznego systemu bezpieczeństwa. Aby być naprawdę bezpiecznym, każde urządzenie żądające dostępu do aplikacji powinno spełniać standardy bezpieczeństwa Twojej organizacji. Jednak w zależności od złożoności protokołów bezpieczeństwa zapewnienie, że każde urządzenie ma najnowszy system operacyjny, włączoną blokadę ekranu i jest odpowiednio zaszyfrowane, może być trudne — lista jest długa.\n",
    "\n",
    "Niektóre rozwiązania 2FA zawierają opcję kontroli stanu urządzeń, więc administratorzy mogą ostrzec użytkowników, że jeśli nie zaktualizują oprogramowania lub nie zmienią ustawień urządzenia, nie będą mogli uzyskać dostępu do potrzebnych im usług. Funkcje samonaprawiania Duo zostały zaprojektowane specjalnie po to, by nie tylko ostrzegać lub blokować użytkowników na podstawie stanu urządzenia, ale także pomagać użytkownikom w przestrzeganiu przepisów bezpieczeństwa bez konieczności angażowania informatyka.\n",
    "\n",
    "Im łatwiej jest użytkownikom spełnić standardy bezpieczeństwa, tym bardziej prawdopodobne jest, że ich urządzenia będą zgodne z wymaganiami — oszczędzając administratorom wielu problemów w czasie.\n",
    "\n",
    "+ Co się stanie, jeśli użytkownik zgubi swoje urządzenie mobilne?\n",
    "2FA polega na tym, że użytkownicy mają urządzenie do uwierzytelnienia. Jeśli ten smartfon lub laptop zostanie zgubiony lub skradziony, istnieje zwiększone ryzyko, że nieupoważnione podmioty będą mogły uzyskać dostęp do ważnych danych. Ogólnie rzecz biorąc, użytkownicy powinni być zawsze świadomi lokalizacji swoich urządzeń i powinni zachować ostrożność, pozwalając innym korzystać z ich urządzeń.\n",
    "\n",
    "Nie jest to jednak gwarancja bezpieczeństwa — wszyscy zgubiliśmy (lub myśleliśmy, że zgubiliśmy) urządzenie lub dwa gdzieś po drodze. Zdarza się. Na szczęście technologia 2FA może faktycznie ułatwić ochronę informacji, do których te urządzenia mają dostęp. Rozwiązania bezpieczeństwa instalowane bezpośrednio na urządzeniach użytkowników (MDM itp.) mogą często zdalnie blokować lub wyłączać urządzenia, chroniąc informacje o znaczeniu krytycznym, nawet jeśli użytkownik fizycznie nie ma przy sobie swojego urządzenia. Duo działa podobnie, ale nie wymaga instalacji żadnych dodatkowych sterowników ani oprogramowania. Użytkownicy mogą łatwo samodzielnie zarejestrować się w 2FA za pośrednictwem aplikacji na swoich urządzeniach, więc bez względu na to, w jakim miejscu na świecie podróżują lub jakiej technologii używają, Twoje informacje pozostają bezpieczne.\n",
    "\n",
    "Czy mogę ograniczyć dostęp do niektórych aplikacji, ale nie do innych?\n",
    "Dzięki dobremu rozwiązaniu do uwierzytelniania adaptacyjnego, tak! Wraz z rozwojem branży bezpieczeństwa staje się to coraz ważniejsze. Pamiętaj, że celem polityki bezpieczeństwa jest ograniczenie dostępu do jak najmniejszej liczby osób — i ta koncepcja ma zastosowanie również na poziomie aplikacji. Aby naprawdę ograniczyć możliwość naruszenia, każdy użytkownik powinien mieć możliwość uwierzytelnienia się w jak najmniejszej liczbie aplikacji, a jego poziom dostępu powinien opierać się na informacjach, których potrzebuje.\n"
=======
    "- https://www.rfc-editor.org/rfc/inline-errata/rfc6238.html\n",
    "- https://www.rfc-editor.org/rfc/inline-errata/rfc4226.html"
>>>>>>> d2b6651404ed4305c8ae70bed20b3387f81a87ad
   ]
  }
 ],
 "metadata": {
  "kernelspec": {
   "display_name": "Python 3",
   "language": "python",
   "name": "python3"
  },
  "language_info": {
   "codemirror_mode": {
    "name": "ipython",
    "version": 3
   },
   "file_extension": ".py",
   "mimetype": "text/x-python",
   "name": "python",
   "nbconvert_exporter": "python",
   "pygments_lexer": "ipython3",
   "version": "3.11.0"
  },
  "orig_nbformat": 4,
  "vscode": {
   "interpreter": {
    "hash": "5238573367df39f7286bb46f9ff5f08f63a01a80960060ce41e3c79b190280fa"
   }
  }
 },
 "nbformat": 4,
 "nbformat_minor": 2
}
