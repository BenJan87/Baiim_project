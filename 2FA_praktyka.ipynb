{
 "cells": [
  {
   "cell_type": "markdown",
   "metadata": {},
   "source": [
    "## Do części praktycznej:"
   ]
  },
  {
   "attachments": {},
   "cell_type": "markdown",
   "metadata": {},
   "source": [
    "Najczęściej spotykaną formą 2FA jest wiadomość SMS bądź na maila. Lecz to nie te są najsilniejsze, a 2FA opierające się na tzw. OTP (One time password). Dzielą się one na główne trzy:\n",
    "- HOTP (HMAC-based OTP)\n",
    "- TOTP (Time-based OTP)\n",
    "- OCRA (OATH Challange-Response authorization)"
   ]
  },
  {
   "attachments": {},
   "cell_type": "markdown",
   "metadata": {},
   "source": [
    "HOTP działa on na zasadzie inkrementacji. Różni się on lekko dla użytkownika i sewera. Counter użytkownika zwiększa się za każdym razem kiedy wygeneruje nowe OTP. Natomiast counter serwera zwiększa się z każdym poprawnym zweryfikowanym OTP. Aby kody po stronie użytkownika i serwera się \"nie rozjechały\", serwer generuje kody do przodu i przy autoryzacji porównuje kod podany przez użytkownika ze wszystkimi swoimi kodami \n",
    "Przykładowa implementacja po stronie użytkownika:"
   ]
  },
  {
   "cell_type": "code",
   "execution_count": null,
   "metadata": {},
   "outputs": [],
   "source": [
    "import hashlib\n",
    "import hmac\n",
    "import random\n",
    "import string\n",
    "\n",
    "\n",
    "random.seed('123')\n",
    "\n",
    "# Tworzy losowy klucz spośród wielkich liter alfabetu i cyfr.\n",
    "# Małe literki nie są tu użyawane, dla wygody użytkownika przepisującego klucz do aplikacji 2FA\n",
    "key = ''.join(random.choices(string.ascii_uppercase + '0123456789', k=20))"
   ]
  },
  {
   "cell_type": "code",
   "execution_count": null,
   "metadata": {},
   "outputs": [],
   "source": [
    "print(f'Prywatny klucz: {key[:5]} {key[5:10]} {key[10:15]} {key[15:20]}\\n')\n",
    "\n",
    "# Napisz funkcję pomocniczą,\n",
    "# Użyj biblioteki hmac i algorytmu hashlib.sha256\n",
    "# key to klucz prywatny\n",
    "# msg to wiadomość która ma być hashowana (HOTP - counter, TOTP - czas w sekundach, OCRA - challange zadany przez server)\n",
    "# należy zamienić utworzony obiekt hmac w bajty (digest()), a bajty w inta\n",
    "# W taki sposób kody w dalszej części będą się zgadzały\n",
    "# Na koniec funkcja ma zwracać 6 ostatnich cyfr tego inta\n",
    "def otp(key: str, msg):\n",
    "    # Miejsce na twój kod\n",
    "    pass\n",
    "\n",
    "\n",
    "# Counter zwiększa się za każdym razem kiedy wykona się funkcja\n",
    "# Ten counter powinien być tutaj hashowany za pomocą powyższej funkcji pomocniczej\n",
    "user_counter = 0\n",
    "def user_hotp(key: str):\n",
    "    global user_counter\n",
    "    # Miejsce na twój kod\n",
    "\n",
    "\n",
    "if user_hotp(key) == 230036:\n",
    "    print(\"Kody się zgadzają :>\\n\")\n",
    "\n",
    "else: print(\"Kody się nie zgadzają\\n\")\n",
    "\n",
    "user_hotp_list = []\n",
    "for _ in range(3):\n",
    "    user_hotp_list.append(user_hotp(key))"
   ]
  },
  {
   "attachments": {},
   "cell_type": "markdown",
   "metadata": {},
   "source": [
    "Jak widać, każdy kolejny wygenerowany kod jest inny\n",
    "\n",
    "Teraz należy zaimplementować ten algorytm po stronie serwera. Serwer powinien generować kody do przodu i mieć je zapisane. Może się zdarzyć, że użytkownik wygeneruje za dużo kodów, dlatego serwer powinien trzymać odpowiednio dużą liczbę kodów, aby do takiej sytuacji nie doszło np. 60. Pierwsze 4 wygenerowane kody powinny być takie same jak te z outputu wyżej\n",
    "  \n",
    "  "
   ]
  },
  {
   "cell_type": "code",
   "execution_count": null,
   "metadata": {},
   "outputs": [],
   "source": [
    "# server_conter nie może się zwiększać przy wykonaniu tej funkcji\n",
    "# Kody mają być przechowywane w liscie, którą następnie zwraca ta funkcja\n",
    "server_counter = 0\n",
    "def server_hotp(key, server_counter):\n",
    "\n",
    "    server_hotp_list = []\n",
    "    # Miejsce na twój kod\n",
    "\n",
    "    return server_hotp_list\n",
    "\n",
    "    \n",
    "server_hotp_list = server_hotp(key, server_counter)\n",
    "print(server_hotp_list)\n",
    "print(server_counter)\n",
    "\n",
    "\n",
    "# Test czy kody się zgadzają\n",
    "flag = 1\n",
    "for code in user_hotp_list:\n",
    "    if code not in server_hotp_list:\n",
    "        print(\"Kod się nie zgadza\")\n",
    "        flag = 0\n",
    "        break\n",
    "\n",
    "if flag:\n",
    "    print(\"Kody się zgadzają\")\n",
    "    "
   ]
  },
  {
   "attachments": {},
   "cell_type": "markdown",
   "metadata": {},
   "source": [
    "### Synchronizacja\n",
    "Kiedy użytkownik generuje kody, to wychodzi dalej niż server. Dlatego przy autoryzacji przez server, countery obu stron powinny być synchronizowane ze sobą"
   ]
  },
  {
   "cell_type": "code",
   "execution_count": null,
   "metadata": {},
   "outputs": [],
   "source": [
    "# Napisz funkcję porównującą HOTP podany przez użytkownika z HOTP servera\n",
    "# Jeżeli kody się zgadzają zwiększ counter servera o tyle,\n",
    "# aby następny kod wygenerowany przez użytkownika i server były takie same (Synchronizacja)\n",
    "def compare(user_hotp: int, server_hotp_list: list):\n",
    "    global server_counter\n",
    "\n",
    "# Przy porównaniu tego kodu, counter servera powienien wynosić 6\n",
    "compare(159928, server_hotp_list)\n",
    "if server_counter == 6:\n",
    "    print(\"Synchronizacja pomyślna\")\n",
    "elif server_counter != 6:\n",
    "    print(\"Synchronizacja nie powiodła się\")"
   ]
  },
  {
   "attachments": {},
   "cell_type": "markdown",
   "metadata": {},
   "source": [
    "**TOTP**  \n",
    "Ulepszona wersja HOTP. Zmniejsza on bowiem okno na atak brute force, ponieważ serwer nie musi generować kluczy do przodu. Dodaje on również wymaganie czasowe, dzięki czemu, aby atak brute force był skuteczny musiałby zostać przeprowadzony w czasie mniejszym od czasu życia kodu TOTP. Ten czas zwykle jest ustawiony na 15-60 sekund. Należy jednak pamietać, aby serwer i użytkownik resynchronizowali swoje zegary, ponieważ jeśli zegary się zbytnio rozjadą, autoryzacja może być niemożliwa. Na szczęście nie musimy się o to martwić, bo zajmuje się tym system operacyjny"
   ]
  },
  {
   "cell_type": "code",
   "execution_count": null,
   "metadata": {},
   "outputs": [],
   "source": [
    "import time\n",
    "\n",
    "# Co tyle sekund ma się zmieniać kod\n",
    "time_step_size = 30\n",
    "\n",
    "# Napisz funkcję która wyświetla kod TOTP wraz z pozostałym czasem życia kodu\n",
    "# podpowiedź: Unix time\n",
    "def totp(key: str, time_step_size: int):\n",
    "    # Miejsce na twój kod\n",
    "    pass\n",
    "\n",
    "while int(time.time() % 30) != 0:\n",
    "    print(totp(key, time_step_size), end='')\n",
    "    time.sleep(1)"
   ]
  },
  {
   "attachments": {},
   "cell_type": "markdown",
   "metadata": {},
   "source": [
    "Z TOTP przychodzi też następna dogodność, bo implementacja po stronie użytkownika jak i servera jest taka sama. Praktycznie został też wyeliminowany problem synchronizacji. Dlatego TOTP jest najczęściej stosowaną metodą OTP dla 2FA"
   ]
  },
  {
   "attachments": {},
   "cell_type": "markdown",
   "metadata": {},
   "source": [
    "### OCRA (OATH Challange-Response Authentication)\n",
    "OCRA tak samo jak powyższe metody używa hash na jakiejś wiadomości. Tym razem tą wiadomością jest tzw. challange.\n",
    "Challange może wyglądać zależnie od implementacji, choć najłatwiej jest zastosować 6-cyfrowy kod.\n",
    "Kod jest generowany przez server i za pomocą tego kodu otrzymujemy kod, który pozwoli nam na uwierzytelnienie"
   ]
  },
  {
   "cell_type": "code",
   "execution_count": null,
   "metadata": {},
   "outputs": [],
   "source": [
    "challange = 123456\n",
    "\n",
    "# Funkcja przymuje challange (Normalnie podany przez serwer)\n",
    "# Funkcja zwraca Kod, który następnie podaje się na stronie tak jak w dwóch powyższych funkcjach\n",
    "def ocra(key: str, challange: int):\n",
    "    # Miejsce na twój kod \n",
    "    pass \n",
    "\n",
    "print(challange)\n",
    "print(f\"{ocra(key, challange):06d}\")\n",
    "\n",
    "if ocra(key, challange) == 810352:\n",
    "    print(\"Kody się zgadzają\")\n",
    "elif ocra(key, challange) != 810352:\n",
    "    print(\"Kody się nie zgadzają\")"
   ]
  }
 ],
 "metadata": {
  "kernelspec": {
   "display_name": "Python 3",
   "language": "python",
   "name": "python3"
  },
  "language_info": {
   "codemirror_mode": {
    "name": "ipython",
    "version": 3
   },
   "file_extension": ".py",
   "mimetype": "text/x-python",
   "name": "python",
   "nbconvert_exporter": "python",
   "pygments_lexer": "ipython3",
   "version": "3.11.0 (main, Oct 24 2022, 18:26:48) [MSC v.1933 64 bit (AMD64)]"
  },
  "orig_nbformat": 4,
  "vscode": {
   "interpreter": {
    "hash": "5238573367df39f7286bb46f9ff5f08f63a01a80960060ce41e3c79b190280fa"
   }
  }
 },
 "nbformat": 4,
 "nbformat_minor": 2
}
