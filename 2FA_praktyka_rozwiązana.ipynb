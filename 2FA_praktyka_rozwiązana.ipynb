{
 "cells": [
  {
   "cell_type": "markdown",
   "metadata": {},
   "source": [
    "## Do części praktycznej:"
   ]
  },
  {
   "attachments": {},
   "cell_type": "markdown",
   "metadata": {},
   "source": [
    "Najczęściej spotykaną formą 2FA jest wiadomość SMS bądź na maila. Lecz to nie te są najsilniejsze, a 2FA opierające się na tzw. OTP (One time password). Dzielą się one na główne trzy:\n",
    "- HOTP (HMAC-based OTP)\n",
    "- TOTP (Time-based OTP)\n",
    "- OCRA (OATH Challange-Response authorization)"
   ]
  },
  {
   "attachments": {},
   "cell_type": "markdown",
   "metadata": {},
   "source": [
    "HOTP działa on na zasadzie inkrementacji. Różni się on lekko dla użytkownika i sewera. Counter użytkownika zwiększa się za każdym razem kiedy wygeneruje nowe OTP. Natomiast counter serwera zwiększa się z każdym poprawnym zweryfikowanym OTP. Aby kody po stronie użytkownika i serwera się \"nie rozjechały\", serwer generuje kody do przodu i przy autoryzacji porównuje kod podany przez użytkownika ze wszystkimi swoimi kodami \n",
    "Przykładowa implementacja po stronie użytkownika:"
   ]
  },
  {
   "cell_type": "code",
   "execution_count": 38,
   "metadata": {},
   "outputs": [],
   "source": [
    "import hashlib\n",
    "import hmac\n",
    "import random\n",
    "import string\n",
    "\n",
    "\n",
    "random.seed('123')\n",
    "\n",
    "# Tworzy losowy klucz spośród wielkich liter alfabetu i cyfr.\n",
    "# Małe literki nie są tu użyawane, dla wygody użytkownika przepisującego klucz do aplikacji 2FA\n",
    "key = ''.join(random.choices(string.ascii_uppercase + '0123456789', k=20))"
   ]
  },
  {
   "cell_type": "code",
   "execution_count": 39,
   "metadata": {},
   "outputs": [
    {
     "name": "stdout",
     "output_type": "stream",
     "text": [
      "Prywatny klucz: 0LCZ0 SGQ7W ZP19Z G4D5K\n",
      "\n",
      "Kody się zgadzają :>\n",
      "\n"
     ]
    }
   ],
   "source": [
    "print(f'Prywatny klucz: {key[:5]} {key[5:10]} {key[10:15]} {key[15:20]}\\n')\n",
    "\n",
    "# Napisz funkcję pomocniczą która zwraca 6 cyfrowy kod \n",
    "# Użyj biblioteki hmac i algorytmu hashlib.sha256\n",
    "# key to klucz prywatny\n",
    "# msg to wiadomość która ma być hashowana (HOTP - counter, TOTP - czas w sekundach, OCRA - challange zadany przez server)\n",
    "# należy zamienić utworzony obiekt hmac w bajty (digest()), a bajty w inta\n",
    "# W taki sposób kody w dalszej części będą się zgadzały\n",
    "def otp(key: str, msg):\n",
    "    otp = int.from_bytes(hmac.new(key.encode(), str(msg).encode(), hashlib.sha256).digest())\n",
    "    return otp % 10**6\n",
    "\n",
    "\n",
    "# Counter zwiększa się za każdym razem kiedy wykona się funkcja\n",
    "user_counter = 0\n",
    "def user_hotp(key: str):\n",
    "    global user_counter\n",
    "\n",
    "    code = otp(key, user_counter)\n",
    "\n",
    "    user_counter += 1\n",
    "\n",
    "    return code\n",
    "\n",
    "\n",
    "if user_hotp(key) == 230036:\n",
    "    print(\"Kody się zgadzają :>\\n\")\n",
    "\n",
    "else: print(\"Kody się nie zgadzają\\n\")\n",
    "\n",
    "user_hotp_list = []\n",
    "for _ in range(3):\n",
    "    user_hotp_list.append(user_hotp(key))"
   ]
  },
  {
   "attachments": {},
   "cell_type": "markdown",
   "metadata": {},
   "source": [
    "Jak widać, każdy kolejny wygenerowany kod jest inny\n",
    "\n",
    "Teraz twoja kolej na zaimplementowanie tego algorytmu po stronie serwera. Serwer powinien generować kody do przodu i mieć je zapisane. Może się zdarzyć, że użytkownik wygeneruje za dużo kodów, dlatego serwer powinien trzymać odpowiednio dużą liczbę kodów, aby do takiej sytuacji nie doszło np. 60. Pierwsze 4 wygenerowane kody powinny być takie same jak te z outputu wyżej\n",
    "  \n",
    "  "
   ]
  },
  {
   "cell_type": "code",
   "execution_count": 40,
   "metadata": {},
   "outputs": [
    {
     "name": "stdout",
     "output_type": "stream",
     "text": [
      "[230036, 973957, 833598, 816702, 340484, 159928, 651751, 88556, 770754, 594187, 677983, 822198, 486327, 71468, 237349, 321292, 24460, 266108, 988264, 402019, 868599, 256729, 954760, 218712, 882621, 300641, 922727, 859836, 147440, 613810, 52958, 693429, 26986, 893798, 371135, 502675, 798460, 867783, 570628, 290161, 641182, 388536, 160294, 170209, 956346, 957910, 196163, 384785, 964975, 647807, 845038, 928070, 821255, 563997, 891832, 511256, 986610, 465933, 843628, 738206]\n",
      "0\n",
      "Kody się zgadzają\n"
     ]
    }
   ],
   "source": [
    "server_counter = 0\n",
    "def server_hotp(key, server_counter):\n",
    "\n",
    "    #Tutaj twoja implementacja\n",
    "    server_hotp_list = []\n",
    "    for i in range(server_counter, server_counter + 60):\n",
    "        server_hotp_list.append(otp(key, i))\n",
    "\n",
    "    return server_hotp_list\n",
    "\n",
    "    \n",
    "server_hotp_list = server_hotp(key, server_counter)\n",
    "print(server_hotp_list)\n",
    "print(server_counter)\n",
    "\n",
    "\n",
    "# Test czy kody się zgadzają\n",
    "flag = 1\n",
    "for code in user_hotp_list:\n",
    "    if code not in server_hotp_list:\n",
    "        print(\"Kod się nie zgadza\")\n",
    "        flag = 0\n",
    "        break\n",
    "\n",
    "if flag:\n",
    "    print(\"Kody się zgadzają\")\n",
    "    "
   ]
  },
  {
   "attachments": {},
   "cell_type": "markdown",
   "metadata": {},
   "source": [
    "### Synchronizacja\n",
    "Kiedy użytkownik generuje kody, to wychodzi dalej niż server. Dlatego przy autoryzacji przez server, coutery obu stron powinny być synchronizowane ze sobą"
   ]
  },
  {
   "cell_type": "code",
   "execution_count": 41,
   "metadata": {},
   "outputs": [
    {
     "name": "stdout",
     "output_type": "stream",
     "text": [
      "Synchronizacja pomyślna\n"
     ]
    }
   ],
   "source": [
    "# Napisz funkcję porównującą HOTP podany przez użytkownika z HOTP servera\n",
    "# Jeżeli kody się zgadzają zwiększ counter servera o tyle,\n",
    "# aby następny kod wygenerowany przez użytkownika i server były takie same (Synchronizacja)\n",
    "def compare(user_hotp: int, server_hotp_list: list):\n",
    "    global server_counter\n",
    "    if user_hotp in server_hotp_list:\n",
    "        server_counter += server_hotp_list.index(user_hotp) + 1\n",
    "        return \"Kody się zgadzają\\nAuthorized\"\n",
    "    return \"Unathorized\"\n",
    "\n",
    "compare(159928, server_hotp_list)\n",
    "if server_counter == 6:\n",
    "    print(\"Synchronizacja pomyślna\")\n",
    "elif server_counter != 6:\n",
    "    print(\"Synchronizacja nie powiodła się\")"
   ]
  },
  {
   "attachments": {},
   "cell_type": "markdown",
   "metadata": {},
   "source": [
    "**TOTP**  \n",
    "Ulepszona wersja HOTP. Zmniejsza on bowiem okno na atak brute force, ponieważ serwer nie musi generować kluczy do przodu. Dodaje on również wymaganie czasowe, dzięki czemu, aby atak brute force był skuteczny musiałby zostać przeprowadzony w czasie mniejszym od czasu życia kodu TOTP. Ten czas zwykle jest ustawiony na 15-60 sekund. Należy jednak pamietać, aby serwer i użytkownik resynchronizowali swoje zegary, ponieważ jeśli zegary się zbytnio rozjadą, autoryzacja może być niemożliwa. Na szczęście nie musimy się o to martwić, bo zajmuje się tym system operacyjny"
   ]
  },
  {
   "cell_type": "code",
   "execution_count": 42,
   "metadata": {},
   "outputs": [
    {
     "name": "stdout",
     "output_type": "stream",
     "text": [
      "205708, Time remaining:  1"
     ]
    }
   ],
   "source": [
    "import time\n",
    "\n",
    "# Co tyle sekund ma się zmieniać kod\n",
    "time_step_size = 30\n",
    "\n",
    "# Napisz funkcję która wyświetla kod TOTP wraz z pozostałym czasem życia kodu\n",
    "# podpowiedź: Unix time\n",
    "def totp(key: str, time_step_size: int):\n",
    "    code = otp(key, str(int(time.time() // time_step_size)))\n",
    "    return f\"\\r{code:06d}, Time remaining: {30 - int(time.time() % 30):2d}\"\n",
    "\n",
    "# Alternatywna wersja: while int(time.time() % 30) != 0:\n",
    "while int(time.time() % 30) != 0:\n",
    "    print(totp(key, time_step_size), end='')\n",
    "    time.sleep(1)"
   ]
  },
  {
   "attachments": {},
   "cell_type": "markdown",
   "metadata": {},
   "source": [
    "Z TOTP przychodzi też następna dogodność, bo implementacja po stronie użytkownika jak i servera jest taka sama. Praktycznie został też wyeliminowany problem synchronizacji. Dlatego TOTP jest najczęściej stosowaną metodą OTP dla 2FA"
   ]
  },
  {
   "attachments": {},
   "cell_type": "markdown",
   "metadata": {},
   "source": [
    "### OCRA (OATH Challange-Response Authentication)\n",
    "OCRA tak samo jak powyższe metody używa hash na jakiejś wiadomości. Tym razem tą wiadomością jest tzw. challange.\n",
    "Challange może wyglądać zależnie od implementacji, choć najłatwiej jest zastosować 6-cyfrowy kod.\n",
    "Kod jest generowany przez server i za pomocą tego kodu otrzymujemy kod, który pozwoli nam na uwierzytelnienie"
   ]
  },
  {
   "cell_type": "code",
   "execution_count": 44,
   "metadata": {},
   "outputs": [
    {
     "name": "stdout",
     "output_type": "stream",
     "text": [
      "123456\n",
      "810352\n",
      "Kody się zgadzają\n"
     ]
    }
   ],
   "source": [
    "challange = 123456\n",
    "\n",
    "# Funkcja przymuje challange (Normalnie podany przez serwer)\n",
    "# Funkcja zwraca Kod do uwierzytelnienia\n",
    "def ocra(key: str, challange: int):\n",
    "    code = otp(key, challange)\n",
    "    return code\n",
    "\n",
    "print(challange)\n",
    "print(f\"{ocra(key, challange):06d}\")\n",
    "\n",
    "if ocra(key, challange) == 810352:\n",
    "    print(\"Kody się zgadzają\")\n",
    "elif ocra(key, challange) != 810352:\n",
    "    print(\"Kody się nie zgadzają\")"
   ]
  }
 ],
 "metadata": {
  "kernelspec": {
   "display_name": "Python 3",
   "language": "python",
   "name": "python3"
  },
  "language_info": {
   "codemirror_mode": {
    "name": "ipython",
    "version": 3
   },
   "file_extension": ".py",
   "mimetype": "text/x-python",
   "name": "python",
   "nbconvert_exporter": "python",
   "pygments_lexer": "ipython3",
   "version": "3.11.0"
  },
  "orig_nbformat": 4,
  "vscode": {
   "interpreter": {
    "hash": "5238573367df39f7286bb46f9ff5f08f63a01a80960060ce41e3c79b190280fa"
   }
  }
 },
 "nbformat": 4,
 "nbformat_minor": 2
}
