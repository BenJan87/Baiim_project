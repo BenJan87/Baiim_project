{
 "cells": [
  {
   "cell_type": "markdown",
   "metadata": {},
   "source": [
    "2FA głównie opiera się na:  \n",
    "    -HOTP (HMAC-based One Time Password)  \n",
    "    -TOTP (Time-based One Time Password)  \n",
    "     Kiedy użytkownik zakłada swoje konto lub włącza 2FA, serwer i użytkownik ustalają prywatny klucz znany tylko im. Następnie hashują tym kluczem wiadomości (w zależności od użytego typu OTP), skracają uzyskany szyfr do 6-10 znaków uzyskując w ten sposób jednorazowe hasło do weryfikacji użytkownika."
   ]
  },
  {
   "attachments": {},
   "cell_type": "markdown",
   "metadata": {},
   "source": [
    "HOTP działa on na zasadzie inkrementacji. Różni się on lekko dla użytkownika i sewera. Counter użytkownika zwiększa się za każdym razem kiedy będzie chciał porównać swóje OTP z serwerm. Natomiast counter serwera zwiększa się z każdym poprawnym zweryfikowanym OTP. Dlatego serwer musi wygenerować kluczę w przód. Gdy weryfikacja się nie powiedzie i użytkownik poda kolejny kod, serwer porówna go ze wszystkimi wygenerowanymi w przód.\n",
    "Przykładowa implementacja po stronie użytkownika:"
   ]
  },
  {
   "cell_type": "code",
   "execution_count": 47,
   "metadata": {},
   "outputs": [
    {
     "name": "stdout",
     "output_type": "stream",
     "text": [
      "Prywatny klucz: SIBST NELYQ SLUZS EVCWH\n",
      "85408095564147123799112798482148229390710221254191667966984201248853090957611\n",
      "854080\n",
      "\n",
      "Klucze się nie zgadzają\n"
     ]
    }
   ],
   "source": [
    "import hashlib\n",
    "import hmac\n",
    "import random\n",
    "import string\n",
    "\n",
    "random.seed('123')\n",
    "\n",
    "# Zamiast random powinno się użyć biblioteki secrets. Random tylko do pokazu i zadań\n",
    "key = ''.join(random.choices(string.ascii_uppercase, k=20))\n",
    "\n",
    "# Counter zwiększa się za każdym razem kiedy wykona się funkcja\n",
    "user_counter = 1\n",
    "def user_hotp():\n",
    "    global user_counter\n",
    "    print(f'Prywatny klucz: {key[:5]} {key[5:10]} {key[10:15]} {key[15:20]}')\n",
    "\n",
    "    otp = hmac.new(key.encode(), str(user_counter).encode(), hashlib.sha256).digest()\n",
    "    print(int.from_bytes(otp))\n",
    "\n",
    "    code = str(int.from_bytes(otp))[:6]\n",
    "    print(f\"{code:06}\\n\")\n",
    "    \n",
    "    user_counter += 1\n",
    "\n",
    "    return f\"{code:06}\"\n",
    "\n",
    "\n",
    "server_counter = 1\n",
    "server_otp_list = []\n",
    "def server_hotp():\n",
    "    global server_counter\n",
    "    global server_otp_list\n",
    "    \n",
    "\n",
    "\n",
    "if user_hotp() == '854080':\n",
    "    print(\"Klucze się zgadzają :>\")\n",
    "\n",
    "else: print(\"Klucze się nie zgadzają\")"
   ]
  },
  {
   "cell_type": "code",
   "execution_count": null,
   "metadata": {},
   "outputs": [],
   "source": []
  }
 ],
 "metadata": {
  "kernelspec": {
   "display_name": "Python 3",
   "language": "python",
   "name": "python3"
  },
  "language_info": {
   "codemirror_mode": {
    "name": "ipython",
    "version": 3
   },
   "file_extension": ".py",
   "mimetype": "text/x-python",
   "name": "python",
   "nbconvert_exporter": "python",
   "pygments_lexer": "ipython3",
   "version": "3.11.0"
  },
  "orig_nbformat": 4,
  "vscode": {
   "interpreter": {
    "hash": "5238573367df39f7286bb46f9ff5f08f63a01a80960060ce41e3c79b190280fa"
   }
  }
 },
 "nbformat": 4,
 "nbformat_minor": 2
}
