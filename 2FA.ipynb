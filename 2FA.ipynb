{
 "cells": [
  {
   "attachments": {},
   "cell_type": "markdown",
   "metadata": {},
   "source": [
    "### Co to jest 2FA?\n",
    "Uwierzytelnianie dwuskładnikowe ( 2FA ) to metoda bezpieczeństwa zarządzania tożsamością i dostępem, która wymaga dwóch form identyfikacji w celu uzyskania dostępu do zasobów i danych.\n",
    "\n",
    "2FA to podzbiór uwierzytelniania wieloskładnikowego, elektronicznej metody uwierzytelniania, która wymaga od użytkownika udowodnienia swojej tożsamości na wiele sposobów, zanim uzyska dostęp do konta. Uwierzytelnianie dwuskładnikowe jest tak nazwane, ponieważ wymaga połączenia dwóch czynników, podczas gdy uwierzytelnianie wieloskładnikowe może wymagać więcej.\n",
    "\n",
    "2FA oferuje dodatkowy poziom bezpieczeństwa, do którego cyberzłodzieje nie mają łatwego dostępu, ponieważ przestępca potrzebuje czegoś więcej niż tylko nazwy użytkownika i hasła\n",
    "\n",
    "\n",
    "\n",
    "\n",
    "Dobrym przykładem uwierzytelniania dwuskładnikowego w świecie rzeczywistym jest karta bankomatowa. Oprócz fizycznego przedstawienia karty, aby uzyskać dostęp do konta, musisz również wpisać kod PIN.\n",
    "\n",
    "W ten sposób ci, którzy nadal polegają na haśle „hasło”, mają lepszą szansę na zabezpieczenie swoich kont bankowych.\n"
   ]
  },
  {
   "attachments": {},
   "cell_type": "markdown",
   "metadata": {},
   "source": [
    "### Metody uwierzytleniania\n",
    "\n",
    "+ Tokeny sprzętowe\n",
    "    - Firmy mogą przekazywać swoim pracownikom tokeny sprzętowe w postaci breloka, który generuje kody co kilka   sekund do minuty. Jest to jedna z najstarszych form uwierzytelniania dwuskładnikowego.\n",
    "    Ten typ 2FA wymaga od użytkowników posiadania pewnego rodzaju tokena fizycznego, takiego jak token USB, który muszą włożyć do swojego urządzenia przed zalogowaniem. Niektóre tokeny sprzętowe wyświetlają kod cyfrowy, który użytkownicy muszą wprowadzić.  \n",
    "+ Tokeny oprogramowania dla 2FA\n",
    "    - **X** te tokeny to aplikacje, które pobierasz. Każda witryna obsługująca 2FA    wyśle ​​kod do aplikacji, którą wprowadzisz przed zalogowaniem.  \n",
    "\n",
    "+ Powiadomienia push\n",
    "    - Metody uwierzytelniania dwuskładnikowego push nie wymagają hasła. Ten typ 2FA wysyła sygnał do Twojego telefonu, aby zatwierdzić/odrzucić lub zaakceptować/odrzucić dostęp do strony internetowej lub aplikacji w celu zweryfikowania Twojej tożsamości.\n",
    "    - pobierzesz na swój telefon aplikację powiadomień push. Po wprowadzeniu danych logowania w celu uzyskania dostępu do witryny internetowej na smartfon wysyłane jest powiadomienie push. Następnie na telefonie pojawi się komunikat z prośbą o zatwierdzenie próby logowania jednym stuknięciem.  \n",
    "\n",
    "+ Weryfikacja SMS-em\n",
    "    - SMS lub wiadomości tekstowe mogą być używane jako forma uwierzytelniania dwuskładnikowego, gdy wiadomość jest wysyłana na zaufany numer telefonu. Użytkownik jest proszony o interakcję z tekstem lub użycie kodu jednorazowego w celu zweryfikowania swojej tożsamości w witrynie lub aplikacji.  \n",
    "\n",
    "+ Uwierzytelnianie oparte na głosie\n",
    "    - Uwierzytelnianie głosowe działa w podobny sposób jak powiadomienia push, z tą różnicą, że Twoja tożsamość jest potwierdzana automatycznie. Głos poprosi Cię o naciśnięcie klawisza lub podanie swojego imienia, aby się zidentyfikować.\n",
    "    Otrzymasz wiadomość tekstową lub głosową zawierającą kod, który musisz następnie wprowadzić, aby uzyskać dostęp do witryny lub konta.  \n",
    "    \n",
    "+ Lokalizacja\n",
    "    - jeśli Twoje konto zostało utworzone i zarejestrowane w jednym stanie i nagle próba logowania następuje w innym miejscu, może to wywołać czynnik lokalizacji. Czynniki te będą ostrzegać o próbie zalogowania się na nowym urządzeniu i wyślą kod do wprowadzenia w celu zweryfikowania tożsamości."
   ]
  },
  {
   "attachments": {},
   "cell_type": "markdown",
   "metadata": {},
   "source": [
    "### Jak włączyć 2FA\n",
    "Chociaż nie wszystkie witryny korzystają z 2FA, niektóre dają możliwość aktywowania go na koncie. W przypadku witryn, które umożliwiają 2FA, przełącznik umożliwiający włączenie tej funkcji można znaleźć w ustawieniach, zwykle na karcie Zabezpieczenia.\n",
    "\n",
    "Niektóre popularne strony internetowe, które umożliwiają 2FA, to: Amazon, Facebook, Instagram, Dropbox, Lastpass, LinkedIn, Intuit, TurboTax, Mint, PayPal i Yahoo. Aby uzyskać pełną listę witryn internetowych, które mają funkcje 2FA, odwiedź tę witrynę.\n",
    "\n",
    "Dodanie uwierzytelniania dwuskładnikowego do kont o wysokim priorytecie może pomóc w zwiększeniu bezpieczeństwa Twojego — oraz Twoich pieniędzy i danych osobowych."
   ]
  },
  {
   "attachments": {},
   "cell_type": "markdown",
   "metadata": {},
   "source": [
    "### Implementacja"
   ]
  },
  {
   "attachments": {},
   "cell_type": "markdown",
   "metadata": {},
   "source": [
    "### Korzyści 2FA\n",
    "+ Generatory kodów dostępu są bardziej wydajne niż tradycyjne hasła. Generatory są bezpieczniejszą opcją, ponieważ polegają na kluczu prywatnym przeważnie o długości od 120-512 bitów. Brute force takiego klucza jest wręcz niemożliwy.\n",
    "+ Maksymalna liczba wprowadzonych kodów uniemożliwia cyberprzestępcom włamywanie się i uzyskiwanie dostępu do poufnych danych.\n",
    "+ Proces jest łatwy w zarządzaniu i przyjazny dla użytkownika."
   ]
  },
  {
   "attachments": {},
   "cell_type": "markdown",
   "metadata": {},
   "source": [
    "### Po co to wszystko? Czyli podsumowanie!\n",
    "+ Każda organizacja lub osoba zainteresowana ochroną swoich danych osobowych i biznesowych powinna korzystać z metod 2FA. Ten rodzaj zabezpieczeń zapewni, że dostęp do wszystkich zasobów będzie niemożliwy bez odpowiedniej weryfikacji tożsamości. Ponadto może to wyeliminować możliwość ujawnienia informacji publicznie przez cyberprzestępców i hakerów.\n",
    "+ 2FA to skuteczny sposób na zapewnienie, że organizacja lub osoba nie padnie ofiarą cyberataku lub hakera. 2FA wykorzystuje wrażliwe na czas generatory tokenów lub kody dostępu, aby zapobiegać kradzieży tożsamości i utracie danych.\n",
    "+ Jak bezpieczne jest 2FA?\n",
    "Trudna rzeczywistość: nic nie jest w 100% bezpieczne. Istnieją sposoby, dzięki którym przestępcy mogą ominąć system i uzyskać dostęp do Twojego konta, nawet jeśli masz włączoną funkcję 2FA. Na przykład odzyskiwanie utraconego hasła zwykle resetuje hasło za pośrednictwem poczty e-mail i może całkowicie ominąć weryfikację dwuetapową.\n",
    "\n",
    "+ Jednak dodanie dodatkowej blokady dla cyberprzestępców chcących uzyskać dostęp do twoich kont jest lepsze niż zaryzykowanie i narażenie się na niebezpieczeństwo przez niewłączenie 2FA.\n",
    "\n",
    "+ Czy weryfikację dwuetapową można zhakować?\n",
    "Tak, hakerzy mogą wykorzystywać określone wiadomości phishingowe, aby obejść procesy logowania 2FA.\n",
    "\n",
    "+ Jaka jest najsilniejsza metoda 2FA?\n",
    "Sprzętowa weryfikacja 2FA jest uważana za najsilniejszą formę weryfikacji 2FA."
   ]
  },
  {
   "attachments": {},
   "cell_type": "markdown",
   "metadata": {},
   "source": [
    "### Dodatki\n",
    "\n",
    "+ Passwords are historically weak, due to both the advanced nature of hacking and a general annoyance with password creation and use. A Harris Poll found that 78% of Gen Z uses the same password across multiple accounts, increasing their overall vulnerability if a criminal was to figure out their credentials. And beyond that: About 23 million accounts still use the password “123456.”\n",
    "\n",
    "+ Zero Trust a 2FA\n",
    "    - Zarówno Zero Trust, jak i 2FA dają konsumentom kontrolę nad ich danymi osobowymi i biznesowymi. Cyberprzestępcy codziennie znajdują nowe sposoby uzyskiwania dostępu do sieci.\n",
    "\n",
    "    - Zero Trust to oprogramowanie biznesowe, które pomaga uniemożliwić cyberprzestępcom dostęp do poufnych danych i sieci, zapewniając solidną ochronę aktywów biznesowych i osobistych. Podobnie 2FA pomaga chronić wrażliwe dane i sieci, ale w inny sposób — za pomocą wrażliwych na czas kodów dostępu, wiadomości głosowych oraz SMS-ów i tokenów."
   ]
  },
  {
   "attachments": {},
   "cell_type": "markdown",
   "metadata": {},
   "source": [
    "## Do części praktycznej:"
   ]
  },
  {
   "attachments": {},
   "cell_type": "markdown",
   "metadata": {},
   "source": [
    "Najczęściej spotykaną formą 2FA jest wiadomość SMS bądź na maila. Lecz to nie te są najsilniejsze, a 2FA opierające się na tzw. OTP (One time password). Dzielą się one na główne trzy:\n",
    "- HOTP (HMAC-based OTP)\n",
    "- TOTP (Time-based OTP)\n",
    "- OCRA (OATH Challange-Response authorization)"
   ]
  },
  {
   "attachments": {},
   "cell_type": "markdown",
   "metadata": {},
   "source": [
    "HOTP działa on na zasadzie inkrementacji. Różni się on lekko dla użytkownika i sewera. Counter użytkownika zwiększa się za każdym razem kiedy będzie chciał porównać swóje OTP z serwerm. Natomiast counter serwera zwiększa się z każdym poprawnym zweryfikowanym OTP. Aby kody po stronie użytkownika i serwera się \"nie rozjechały\", serwer generuje kody do przodu i przy autoryzacji porównuje kod podany przez użytkownika ze wszystkimi swoimi kodami \n",
    "Przykładowa implementacja po stronie użytkownika:"
   ]
  },
  {
   "cell_type": "code",
   "execution_count": 1,
   "metadata": {},
   "outputs": [
    {
     "name": "stdout",
     "output_type": "stream",
     "text": [
      "Prywatny klucz: 0LCZ0 SGQ7W ZP19Z G4D5K\n",
      "54918974730905698705472487995648124186052422481818016600090291274835073230036\n",
      "230036\n",
      "\n",
      "Kody się nie zgadzają\n",
      "\n",
      "Prywatny klucz: 0LCZ0 SGQ7W ZP19Z G4D5K\n",
      "33596668948452946809766801763709677199531111041267607500435893009788538973957\n",
      "973957\n",
      "\n",
      "Prywatny klucz: 0LCZ0 SGQ7W ZP19Z G4D5K\n",
      "10399440267479826071384002084568040782299106074554092796490871508698988833598\n",
      "833598\n",
      "\n",
      "Prywatny klucz: 0LCZ0 SGQ7W ZP19Z G4D5K\n",
      "49040881443557453906114149105654848357519980386402177811939225454342632816702\n",
      "816702\n",
      "\n"
     ]
    }
   ],
   "source": [
    "import hashlib\n",
    "import hmac\n",
    "import random\n",
    "import string\n",
    "\n",
    "\n",
    "# MOJE\n",
    "def otp(key: str, msg):\n",
    "    otp = int.from_bytes(hmac.new(key.encode(), str(msg).encode(), hashlib.sha256).digest())\n",
    "    return otp % 10**6\n",
    "\n",
    "\n",
    "random.seed('123')\n",
    "\n",
    "# Tworzy losowy klucz spośród wielkich liter alfabetu i cyfr.\n",
    "# Małe literki nie są tu użyawane, dla wygody użytkownika przepisującego klucz do aplikacji 2FA\n",
    "key = ''.join(random.choices(string.ascii_uppercase + '0123456789', k=20))\n",
    "\n",
    "\n",
    "# Counter zwiększa się za każdym razem kiedy wykona się funkcja\n",
    "user_counter = 0\n",
    "def user_hotp(key: str):\n",
    "    global user_counter\n",
    "    \n",
    "    print(f'Prywatny klucz: {key[:5]} {key[5:10]} {key[10:15]} {key[15:20]}')\n",
    "\n",
    "    # Funkcja hmac potrzebuje klucza oraz wiadomości zakodowanych w bajty. Digest zamienia obiekt hmac w bajty\n",
    "    otp = hmac.new(key.encode(), str(user_counter).encode(), hashlib.sha256).digest()\n",
    "    print(int.from_bytes(otp))\n",
    "\n",
    "    code = int.from_bytes(otp) % 10**6\n",
    "    print(f\"{code:06}\\n\")\n",
    "    \n",
    "    user_counter += 1\n",
    "\n",
    "    return code\n",
    "\n",
    "\n",
    "if user_hotp(key) == '230036':\n",
    "    print(\"Kody się zgadzają :>\\n\")\n",
    "\n",
    "else: print(\"Kody się nie zgadzają\\n\")\n",
    "\n",
    "\n",
    "for _ in range(3):\n",
    "    user_hotp(key)"
   ]
  },
  {
   "attachments": {},
   "cell_type": "markdown",
   "metadata": {},
   "source": [
    "Jak widać, każdy kolejny wygenerowany kod jest inny\n",
    "\n",
    "Teraz twoja kolej na zaimplementowanie tego algorytmu po stronie serwera. Serwer powinien generować kody do przodu i mieć je zapisane. Może się zdarzyć, że użytkownik wygeneruje za dużo kodów, dlatego serwer powinien trzymać odpowiednio dużą liczbę kodów, aby do takiej sytuacji nie doszło np. 60. Pierwsze 4 wygenerowane kody powinny być takie same jak te z implementacji wyżej"
   ]
  },
  {
   "cell_type": "code",
   "execution_count": 2,
   "metadata": {},
   "outputs": [
    {
     "name": "stdout",
     "output_type": "stream",
     "text": [
      "[230036, 973957, 833598, 816702, 340484, 159928, 651751, 88556, 770754, 594187, 677983, 822198, 486327, 71468, 237349, 321292, 24460, 266108, 988264, 402019, 868599, 256729, 954760, 218712, 882621, 300641, 922727, 859836, 147440, 613810, 52958, 693429, 26986, 893798, 371135, 502675, 798460, 867783, 570628, 290161, 641182, 388536, 160294, 170209, 956346, 957910, 196163, 384785, 964975, 647807, 845038, 928070, 821255, 563997, 891832, 511256, 986610, 465933, 843628, 738206]\n",
      "0\n"
     ]
    }
   ],
   "source": [
    "server_counter = 0\n",
    "def server_hotp(key, server_counter):\n",
    "\n",
    "    #Tutaj twoja implementacja\n",
    "    server_hotp_list = []\n",
    "    for i in range(server_counter, server_counter + 60):\n",
    "        server_hotp_list.append(otp(key, i))\n",
    "\n",
    "    return server_hotp_list\n",
    "\n",
    "    \n",
    "server_hotp_list = server_hotp(key, server_counter)\n",
    "print(server_hotp_list)\n",
    "print(server_counter)\n",
    "    "
   ]
  },
  {
   "cell_type": "code",
   "execution_count": 3,
   "metadata": {},
   "outputs": [
    {
     "name": "stdout",
     "output_type": "stream",
     "text": [
      "Prywatny klucz: 0LCZ0 SGQ7W ZP19Z G4D5K\n",
      "63260745874905829915234119064572078964590958965749007800218303318285758340484\n",
      "340484\n",
      "\n",
      "Kody się zgadzają\n",
      "Authorized\n"
     ]
    }
   ],
   "source": [
    "def compare(user_hotp: int, server_hotp_list: list, server_counter: int):\n",
    "    if user_hotp in server_hotp_list:\n",
    "        server_counter += server_hotp_list.index(user_hotp) + 1\n",
    "        return \"Kody się zgadzają\\nAuthorized\", server_counter\n",
    "    return \"Unathorized\", server_counter\n",
    "\n",
    "state, server_counter = compare(user_hotp(key), server_hotp_list, server_counter)\n",
    "server_hotp_list = server_hotp(key, server_counter)\n",
    "\n",
    "\n",
    "print(state)\n",
    "    \n",
    "    "
   ]
  },
  {
   "attachments": {},
   "cell_type": "markdown",
   "metadata": {},
   "source": [
    "**TOTP**"
   ]
  },
  {
   "cell_type": "code",
   "execution_count": 4,
   "metadata": {},
   "outputs": [
    {
     "name": "stdout",
     "output_type": "stream",
     "text": [
      "653093, Time remaining:  1"
     ]
    }
   ],
   "source": [
    "import time\n",
    "\n",
    "time_step_size = 30\n",
    "\n",
    "def user_totp(key: str, time_step_size: int):\n",
    "    code = otp(key, str(int(time.time() // time_step_size)))\n",
    "    return f\"\\r{code}, Time remaining: {30 - int(time.time() % 30):2d}\"\n",
    "\n",
    "# Alternatywna wersja: while int(time.time() % 30) != 0:\n",
    "while True:\n",
    "    print(user_totp(key, time_step_size), end='')\n",
    "    time.sleep(1)"
   ]
  },
  {
   "attachments": {},
   "cell_type": "markdown",
   "metadata": {},
   "source": [
    "Bibliografia:\n",
    "- https://www.microsoft.com/en-us/security/business/security-101/what-is-two-factor-authentication-2fa\n",
    "- https://us.norton.com/blog/how-to/importance-two-factor-authentication\n",
    "- https://us.norton.com/blog/privacy/what-is-2fa"
   ]
  }
 ],
 "metadata": {
  "kernelspec": {
   "display_name": "Python 3",
   "language": "python",
   "name": "python3"
  },
  "language_info": {
   "codemirror_mode": {
    "name": "ipython",
    "version": 3
   },
   "file_extension": ".py",
   "mimetype": "text/x-python",
   "name": "python",
   "nbconvert_exporter": "python",
   "pygments_lexer": "ipython3",
   "version": "3.11.0"
  },
  "orig_nbformat": 4,
  "vscode": {
   "interpreter": {
    "hash": "5238573367df39f7286bb46f9ff5f08f63a01a80960060ce41e3c79b190280fa"
   }
  }
 },
 "nbformat": 4,
 "nbformat_minor": 2
}
