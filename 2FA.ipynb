{
 "cells": [
  {
   "attachments": {},
   "cell_type": "markdown",
   "metadata": {},
   "source": [
    "### Co to jest 2FA?\n",
    "Uwierzytelnianie dwuskładnikowe ( 2FA ) to metoda bezpieczeństwa zarządzania tożsamością i dostępem, która wymaga dwóch form identyfikacji w celu uzyskania dostępu do zasobów i danych.\n"
   ]
  },
  {
   "attachments": {},
   "cell_type": "markdown",
   "metadata": {},
   "source": [
    "### Metody uwierzytleniania\n",
    "\n",
    "+ Tokeny sprzętowe\n",
    "    - Firmy mogą przekazywać swoim pracownikom tokeny sprzętowe w postaci breloka, który generuje kody co kilka   sekund do minuty. Jest to jedna z najstarszych form uwierzytelniania dwuskładnikowego.\n",
    "\n",
    "+ Powiadomienia push\n",
    "    - Metody uwierzytelniania dwuskładnikowego push nie wymagają hasła. Ten typ 2FA wysyła sygnał do Twojego telefonu, aby zatwierdzić/odrzucić lub zaakceptować/odrzucić dostęp do strony internetowej lub aplikacji w celu zweryfikowania Twojej tożsamości.\n",
    "\n",
    "+ Weryfikacja SMS-em\n",
    "    - SMS lub wiadomości tekstowe mogą być używane jako forma uwierzytelniania dwuskładnikowego, gdy wiadomość jest wysyłana na zaufany numer telefonu. Użytkownik jest proszony o interakcję z tekstem lub użycie kodu jednorazowego w celu zweryfikowania swojej tożsamości w witrynie lub aplikacji.\n",
    "\n",
    "+ Uwierzytelnianie oparte na głosie\n",
    "    - Uwierzytelnianie głosowe działa w podobny sposób jak powiadomienia push, z tą różnicą, że Twoja tożsamość jest potwierdzana automatycznie. Głos poprosi Cię o naciśnięcie klawisza lub podanie swojego imienia, aby się zidentyfikować."
   ]
  },
  {
   "attachments": {},
   "cell_type": "markdown",
   "metadata": {},
   "source": [
    "### Implementacja"
   ]
  },
  {
   "attachments": {},
   "cell_type": "markdown",
   "metadata": {},
   "source": [
    "### Korzyści 2FA\n",
    "+ Generatory kodów dostępu są bardziej wydajne niż tradycyjne hasła. Generatory są bezpieczniejszą opcją, ponieważ nie ma dwóch takich samych haseł.\n",
    "+ Maksymalna liczba wprowadzonych kodów uniemożliwia cyberprzestępcom włamywanie się i uzyskiwanie dostępu do poufnych danych.\n",
    "+ Proces jest łatwy w zarządzaniu i przyjazny dla użytkownika."
   ]
  },
  {
   "attachments": {},
   "cell_type": "markdown",
   "metadata": {},
   "source": [
    "### Po co to wszystko? Czyli podsumowanie!\n",
    "+ Każda organizacja lub osoba zainteresowana ochroną swoich danych osobowych i biznesowych powinna korzystać z metod 2FA. Ten rodzaj zabezpieczeń zapewni, że dostęp do wszystkich zasobów będzie niemożliwy bez odpowiedniej weryfikacji tożsamości. Ponadto może to wyeliminować możliwość ujawnienia informacji publicznie przez cyberprzestępców i hakerów.\n",
    "+ 2FA to skuteczny sposób na zapewnienie, że organizacja lub osoba nie padnie ofiarą cyberataku lub hakera. 2FA wykorzystuje wrażliwe na czas generatory tokenów lub kody dostępu, aby zapobiegać kradzieży tożsamości i utracie danych.\n",
    "+"
   ]
  },
  {
   "attachments": {},
   "cell_type": "markdown",
   "metadata": {},
   "source": [
    "### Dodatki\n",
    "+ Zero Trust a 2FA\n",
    "    - Zarówno Zero Trust, jak i 2FA dają konsumentom kontrolę nad ich danymi osobowymi i biznesowymi. Cyberprzestępcy codziennie znajdują nowe sposoby uzyskiwania dostępu do sieci.\n",
    "\n",
    "    - Zero Trust to oprogramowanie biznesowe, które pomaga uniemożliwić cyberprzestępcom dostęp do poufnych danych i sieci, zapewniając solidną ochronę aktywów biznesowych i osobistych. Podobnie 2FA pomaga chronić wrażliwe dane i sieci, ale w inny sposób — za pomocą wrażliwych na czas kodów dostępu, wiadomości głosowych oraz SMS-ów i tokenów."
   ]
  },
  {
   "attachments": {},
   "cell_type": "markdown",
   "metadata": {},
   "source": [
    "## Do części praktycznej:"
   ]
  },
  {
   "attachments": {},
   "cell_type": "markdown",
   "metadata": {},
   "source": [
    "2FA głównie opiera się na:  \n",
    "    -HOTP (HMAC-based One Time Password)  \n",
    "    -TOTP (Time-based One Time Password)  \n",
    "     Kiedy użytkownik zakłada swoje konto lub włącza 2FA, serwer i użytkownik ustalają prywatny klucz znany tylko im. Następnie hashują tym kluczem wiadomości (w zależności od użytego typu OTP), skracają uzyskany szyfr do 6-10 znaków uzyskując w ten sposób jednorazowe hasło do weryfikacji użytkownika."
   ]
  },
  {
   "attachments": {},
   "cell_type": "markdown",
   "metadata": {},
   "source": [
    "HOTP działa on na zasadzie inkrementacji. Różni się on lekko dla użytkownika i sewera. Counter użytkownika zwiększa się za każdym razem kiedy będzie chciał porównać swóje OTP z serwerm. Natomiast counter serwera zwiększa się z każdym poprawnym zweryfikowanym OTP. Dlatego serwer musi wygenerować kluczę w przód. Gdy weryfikacja się nie powiedzie i użytkownik poda kolejny kod, serwer porówna go ze wszystkimi wygenerowanymi w przód.\n",
    "Przykładowa implementacja po stronie użytkownika:"
   ]
  },
  {
   "cell_type": "code",
   "execution_count": null,
   "metadata": {},
   "outputs": [],
   "source": [
    "import hashlib\n",
    "import hmac\n",
    "import random\n",
    "import string\n",
    "\n",
    "random.seed('123')\n",
    "\n",
    "# Zamiast random powinno się użyć biblioteki secrets. Random tylko do pokazu i zadań\n",
    "key = ''.join(random.choices(string.ascii_uppercase, k=20))\n",
    "\n",
    "# Counter zwiększa się za każdym razem kiedy wykona się funkcja\n",
    "user_counter = 1\n",
    "def user_hotp():\n",
    "    global user_counter\n",
    "    print(f'Prywatny klucz: {key[:5]} {key[5:10]} {key[10:15]} {key[15:20]}')\n",
    "\n",
    "    otp = hmac.new(key.encode(), str(user_counter).encode(), hashlib.sha256).digest()\n",
    "    print(int.from_bytes(otp))\n",
    "\n",
    "    code = str(int.from_bytes(otp))[:6]\n",
    "    print(f\"{code:06}\\n\")\n",
    "    \n",
    "    user_counter += 1\n",
    "\n",
    "    return f\"{code:06}\"\n",
    "\n",
    "\n",
    "server_counter = 1\n",
    "server_otp_list = []\n",
    "def server_hotp():\n",
    "    global server_counter\n",
    "    global server_otp_list\n",
    "    \n",
    "\n",
    "\n",
    "if user_hotp() == '854080':\n",
    "    print(\"Klucze się zgadzają :>\")\n",
    "\n",
    "else: print(\"Klucze się nie zgadzają\")"
   ]
  },
  {
   "cell_type": "code",
   "execution_count": null,
   "metadata": {},
   "outputs": [],
   "source": []
  },
  {
   "attachments": {},
   "cell_type": "markdown",
   "metadata": {},
   "source": [
    "Bibliografia:\n",
    "- https://www.microsoft.com/en-us/security/business/security-101/what-is-two-factor-authentication-2fa\n",
    "- https://us.norton.com/blog/how-to/importance-two-factor-authentication"
   ]
  }
 ],
 "metadata": {
  "kernelspec": {
   "display_name": "Python 3",
   "language": "python",
   "name": "python3"
  },
  "language_info": {
   "codemirror_mode": {
    "name": "ipython",
    "version": 3
   },
   "file_extension": ".py",
   "mimetype": "text/x-python",
   "name": "python",
   "nbconvert_exporter": "python",
   "pygments_lexer": "ipython3",
   "version": "3.10.8 (tags/v3.10.8:aaaf517, Oct 11 2022, 16:50:30) [MSC v.1933 64 bit (AMD64)]"
  },
  "orig_nbformat": 4,
  "vscode": {
   "interpreter": {
    "hash": "1478f03233846e1a507e5f9deefeef00e71e61a37f8e2aeed2c2eb3e9b1659b3"
   }
  }
 },
 "nbformat": 4,
 "nbformat_minor": 2
}
