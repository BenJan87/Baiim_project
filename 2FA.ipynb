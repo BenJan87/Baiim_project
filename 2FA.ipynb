{
 "cells": [
  {
   "attachments": {},
   "cell_type": "markdown",
   "metadata": {},
   "source": [
    "### Co to jest 2FA?\n",
    "Uwierzytelnianie dwuskładnikowe ( 2FA ) to metoda bezpieczeństwa zarządzania tożsamością i dostępem, która wymaga dwóch form identyfikacji w celu uzyskania dostępu do zasobów i danych.\n",
    "\n",
    "2FA to podzbiór uwierzytelniania wieloskładnikowego, elektronicznej metody uwierzytelniania, która wymaga od użytkownika udowodnienia swojej tożsamości na wiele sposobów, zanim uzyska dostęp do konta. Uwierzytelnianie dwuskładnikowe jest tak nazwane, ponieważ wymaga połączenia dwóch czynników, podczas gdy uwierzytelnianie wieloskładnikowe może wymagać więcej.\n",
    "\n",
    "2FA oferuje dodatkowy poziom bezpieczeństwa, do którego cyberzłodzieje nie mają łatwego dostępu, ponieważ przestępca potrzebuje czegoś więcej niż tylko nazwy użytkownika i hasła\n",
    "\n",
    "\n",
    "\n",
    "\n",
    "Dobrym przykładem uwierzytelniania dwuskładnikowego w świecie rzeczywistym jest karta bankomatowa. Oprócz fizycznego przedstawienia karty, aby uzyskać dostęp do konta, musisz również wpisać kod PIN.\n",
    "\n",
    "W ten sposób ci, którzy nadal polegają na haśle „hasło”, mają lepszą szansę na zabezpieczenie swoich kont bankowych.\n"
   ]
  },
  {
   "attachments": {},
   "cell_type": "markdown",
   "metadata": {},
   "source": [
    "### Metody uwierzytleniania\n",
    "\n",
    "+ Tokeny sprzętowe\n",
    "    - Firmy mogą przekazywać swoim pracownikom tokeny sprzętowe w postaci breloka, który generuje kody co kilka   sekund do minuty. Jest to jedna z najstarszych form uwierzytelniania dwuskładnikowego.\n",
    "    Ten typ 2FA wymaga od użytkowników posiadania pewnego rodzaju tokena fizycznego, takiego jak token USB, który muszą włożyć do swojego urządzenia przed zalogowaniem. Niektóre tokeny sprzętowe wyświetlają kod cyfrowy, który użytkownicy muszą wprowadzić.\n",
    "+ Tokeny oprogramowania dla 2FA\n",
    "    - te tokeny to aplikacje, które pobierasz. Każda witryna obsługująca 2FA    wyśle ​​kod do aplikacji, którą wprowadzisz przed zalogowaniem.\n",
    "\n",
    "+ Powiadomienia push\n",
    "    - Metody uwierzytelniania dwuskładnikowego push nie wymagają hasła. Ten typ 2FA wysyła sygnał do Twojego telefonu, aby zatwierdzić/odrzucić lub zaakceptować/odrzucić dostęp do strony internetowej lub aplikacji w celu zweryfikowania Twojej tożsamości.\n",
    "    - pobierzesz na swój telefon aplikację powiadomień push. Po wprowadzeniu danych logowania w celu uzyskania dostępu do witryny internetowej na smartfon wysyłane jest powiadomienie push. Następnie na telefonie pojawi się komunikat z prośbą o zatwierdzenie próby logowania jednym stuknięciem.\n",
    "\n",
    "+ Weryfikacja SMS-em\n",
    "    - SMS lub wiadomości tekstowe mogą być używane jako forma uwierzytelniania dwuskładnikowego, gdy wiadomość jest wysyłana na zaufany numer telefonu. Użytkownik jest proszony o interakcję z tekstem lub użycie kodu jednorazowego w celu zweryfikowania swojej tożsamości w witrynie lub aplikacji.\n",
    "\n",
    "+ Uwierzytelnianie oparte na głosie\n",
    "    - Uwierzytelnianie głosowe działa w podobny sposób jak powiadomienia push, z tą różnicą, że Twoja tożsamość jest potwierdzana automatycznie. Głos poprosi Cię o naciśnięcie klawisza lub podanie swojego imienia, aby się zidentyfikować.\n",
    "    Otrzymasz wiadomość tekstową lub głosową zawierającą kod, który musisz następnie wprowadzić, aby uzyskać dostęp do witryny lub konta.\n",
    "    \n",
    "+ Lokalizacja\n",
    "    - jeśli Twoje konto zostało utworzone i zarejestrowane w jednym stanie i nagle próba logowania następuje w innym miejscu, może to wywołać czynnik lokalizacji. Czynniki te będą ostrzegać o próbie zalogowania się na nowym urządzeniu i wyślą kod do wprowadzenia w celu zweryfikowania tożsamości."
   ]
  },
  {
   "attachments": {},
   "cell_type": "markdown",
   "metadata": {},
   "source": [
    "### Jak włączyć 2FA\n",
    "Chociaż nie wszystkie witryny korzystają z 2FA, niektóre dają możliwość aktywowania go na koncie. W przypadku witryn, które umożliwiają 2FA, przełącznik umożliwiający włączenie tej funkcji można znaleźć w ustawieniach, zwykle na karcie Zabezpieczenia.\n",
    "\n",
    "Niektóre popularne strony internetowe, które umożliwiają 2FA, to: Amazon, Facebook, Instagram, Dropbox, Lastpass, LinkedIn, Intuit, TurboTax, Mint, PayPal i Yahoo. Aby uzyskać pełną listę witryn internetowych, które mają funkcje 2FA, odwiedź tę witrynę.\n",
    "\n",
    "Dodanie uwierzytelniania dwuskładnikowego do kont o wysokim priorytecie może pomóc w zwiększeniu bezpieczeństwa Twojego — oraz Twoich pieniędzy i danych osobowych."
   ]
  },
  {
   "attachments": {},
   "cell_type": "markdown",
   "metadata": {},
   "source": [
    "### Implementacja"
   ]
  },
  {
   "attachments": {},
   "cell_type": "markdown",
   "metadata": {},
   "source": [
    "### Korzyści 2FA\n",
    "+ Generatory kodów dostępu są bardziej wydajne niż tradycyjne hasła. Generatory są bezpieczniejszą opcją, ponieważ nie ma dwóch takich samych haseł.\n",
    "+ Maksymalna liczba wprowadzonych kodów uniemożliwia cyberprzestępcom włamywanie się i uzyskiwanie dostępu do poufnych danych.\n",
    "+ Proces jest łatwy w zarządzaniu i przyjazny dla użytkownika."
   ]
  },
  {
   "attachments": {},
   "cell_type": "markdown",
   "metadata": {},
   "source": [
    "### Po co to wszystko? Czyli podsumowanie!\n",
    "+ Każda organizacja lub osoba zainteresowana ochroną swoich danych osobowych i biznesowych powinna korzystać z metod 2FA. Ten rodzaj zabezpieczeń zapewni, że dostęp do wszystkich zasobów będzie niemożliwy bez odpowiedniej weryfikacji tożsamości. Ponadto może to wyeliminować możliwość ujawnienia informacji publicznie przez cyberprzestępców i hakerów.\n",
    "+ 2FA to skuteczny sposób na zapewnienie, że organizacja lub osoba nie padnie ofiarą cyberataku lub hakera. 2FA wykorzystuje wrażliwe na czas generatory tokenów lub kody dostępu, aby zapobiegać kradzieży tożsamości i utracie danych.\n",
    "+ Jak bezpieczne jest 2FA?\n",
    "Trudna rzeczywistość: nic nie jest w 100% bezpieczne. Istnieją sposoby, dzięki którym przestępcy mogą ominąć system i uzyskać dostęp do Twojego konta, nawet jeśli masz włączoną funkcję 2FA. Na przykład odzyskiwanie utraconego hasła zwykle resetuje hasło za pośrednictwem poczty e-mail i może całkowicie ominąć weryfikację dwuetapową.\n",
    "\n",
    "+ Jednak dodanie dodatkowej blokady dla cyberprzestępców chcących uzyskać dostęp do twoich kont jest lepsze niż zaryzykowanie i narażenie się na niebezpieczeństwo przez niewłączenie 2FA.\n",
    "\n",
    "+ Czy weryfikację dwuetapową można zhakować?\n",
    "Tak, hakerzy mogą wykorzystywać określone wiadomości phishingowe, aby obejść procesy logowania 2FA.\n",
    "\n",
    "+ Jaka jest najsilniejsza metoda 2FA?\n",
    "Sprzętowa weryfikacja 2FA jest uważana za najsilniejszą formę weryfikacji 2FA."
   ]
  },
  {
   "attachments": {},
   "cell_type": "markdown",
   "metadata": {},
   "source": [
    "### Dodatki\n",
    "\n",
    "+ Passwords are historically weak, due to both the advanced nature of hacking and a general annoyance with password creation and use. A Harris Poll found that 78% of Gen Z uses the same password across multiple accounts, increasing their overall vulnerability if a criminal was to figure out their credentials. And beyond that: About 23 million accounts still use the password “123456.”\n",
    "\n",
    "+ Zero Trust a 2FA\n",
    "    - Zarówno Zero Trust, jak i 2FA dają konsumentom kontrolę nad ich danymi osobowymi i biznesowymi. Cyberprzestępcy codziennie znajdują nowe sposoby uzyskiwania dostępu do sieci.\n",
    "\n",
    "    - Zero Trust to oprogramowanie biznesowe, które pomaga uniemożliwić cyberprzestępcom dostęp do poufnych danych i sieci, zapewniając solidną ochronę aktywów biznesowych i osobistych. Podobnie 2FA pomaga chronić wrażliwe dane i sieci, ale w inny sposób — za pomocą wrażliwych na czas kodów dostępu, wiadomości głosowych oraz SMS-ów i tokenów."
   ]
  },
  {
   "attachments": {},
   "cell_type": "markdown",
   "metadata": {},
   "source": [
    "## Do części praktycznej:"
   ]
  },
  {
   "attachments": {},
   "cell_type": "markdown",
   "metadata": {},
   "source": [
    "2FA głównie opiera się na:  \n",
    "    -HOTP (HMAC-based One Time Password)  \n",
    "    -TOTP (Time-based One Time Password)  \n",
    "     Kiedy użytkownik zakłada swoje konto lub włącza 2FA, serwer i użytkownik ustalają prywatny klucz znany tylko im. Następnie hashują tym kluczem wiadomości (w zależności od użytego typu OTP), skracają uzyskany szyfr do 6-10 znaków uzyskując w ten sposób jednorazowe hasło do weryfikacji użytkownika."
   ]
  },
  {
   "attachments": {},
   "cell_type": "markdown",
   "metadata": {},
   "source": [
    "HOTP działa on na zasadzie inkrementacji. Różni się on lekko dla użytkownika i sewera. Counter użytkownika zwiększa się za każdym razem kiedy będzie chciał porównać swóje OTP z serwerm. Natomiast counter serwera zwiększa się z każdym poprawnym zweryfikowanym OTP. Dlatego serwer musi wygenerować kluczę w przód. Gdy weryfikacja się nie powiedzie i użytkownik poda kolejny kod, serwer porówna go ze wszystkimi wygenerowanymi w przód.\n",
    "Przykładowa implementacja po stronie użytkownika:"
   ]
  },
  {
   "cell_type": "code",
   "execution_count": null,
   "metadata": {},
   "outputs": [],
   "source": [
    "import hashlib\n",
    "import hmac\n",
    "import random\n",
    "import string\n",
    "\n",
    "random.seed('123')\n",
    "\n",
    "# Zamiast random powinno się użyć biblioteki secrets. Random tylko do pokazu i zadań\n",
    "key = ''.join(random.choices(string.ascii_uppercase, k=20))\n",
    "\n",
    "# Counter zwiększa się za każdym razem kiedy wykona się funkcja\n",
    "user_counter = 1\n",
    "def user_hotp():\n",
    "    global user_counter\n",
    "    print(f'Prywatny klucz: {key[:5]} {key[5:10]} {key[10:15]} {key[15:20]}')\n",
    "\n",
    "    otp = hmac.new(key.encode(), str(user_counter).encode(), hashlib.sha256).digest()\n",
    "    print(int.from_bytes(otp))\n",
    "\n",
    "    code = str(int.from_bytes(otp))[:6]\n",
    "    print(f\"{code:06}\\n\")\n",
    "    \n",
    "    user_counter += 1\n",
    "\n",
    "    return f\"{code:06}\"\n",
    "\n",
    "\n",
    "server_counter = 1\n",
    "server_otp_list = []\n",
    "def server_hotp():\n",
    "    global server_counter\n",
    "    global server_otp_list\n",
    "    \n",
    "\n",
    "\n",
    "if user_hotp() == '854080':\n",
    "    print(\"Klucze się zgadzają :>\")\n",
    "\n",
    "else: print(\"Klucze się nie zgadzają\")"
   ]
  },
  {
   "cell_type": "code",
   "execution_count": null,
   "metadata": {},
   "outputs": [],
   "source": []
  },
  {
   "attachments": {},
   "cell_type": "markdown",
   "metadata": {},
   "source": [
    "Bibliografia:\n",
    "- https://www.microsoft.com/en-us/security/business/security-101/what-is-two-factor-authentication-2fa\n",
    "- https://us.norton.com/blog/how-to/importance-two-factor-authentication\n",
    "- https://us.norton.com/blog/privacy/what-is-2fa"
   ]
  }
 ],
 "metadata": {
  "kernelspec": {
   "display_name": "Python 3",
   "language": "python",
   "name": "python3"
  },
  "language_info": {
   "codemirror_mode": {
    "name": "ipython",
    "version": 3
   },
   "file_extension": ".py",
   "mimetype": "text/x-python",
   "name": "python",
   "nbconvert_exporter": "python",
   "pygments_lexer": "ipython3",
   "version": "3.10.8 (tags/v3.10.8:aaaf517, Oct 11 2022, 16:50:30) [MSC v.1933 64 bit (AMD64)]"
  },
  "orig_nbformat": 4,
  "vscode": {
   "interpreter": {
    "hash": "1478f03233846e1a507e5f9deefeef00e71e61a37f8e2aeed2c2eb3e9b1659b3"
   }
  }
 },
 "nbformat": 4,
 "nbformat_minor": 2
}
